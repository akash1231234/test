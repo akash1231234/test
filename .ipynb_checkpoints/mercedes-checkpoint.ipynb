{
 "cells": [
  {
   "cell_type": "code",
   "execution_count": 1,
   "id": "c5b8071e-440a-4e48-b8e6-71029978dc4d",
   "metadata": {},
   "outputs": [],
   "source": [
    "import numpy as np\n",
    "import pandas as pd\n",
    "import matplotlib.pyplot as plt\n",
    "%matplotlib inline\n",
    "import seaborn as sns\n",
    "import warnings\n",
    "warnings.filterwarnings('ignore')"
   ]
  },
  {
   "cell_type": "code",
   "execution_count": 2,
   "id": "3ac0dd51-3498-4bbf-830e-355edbf67a49",
   "metadata": {},
   "outputs": [],
   "source": [
    "dataset=pd.read_csv('mercedesbenz.csv')"
   ]
  },
  {
   "cell_type": "code",
   "execution_count": 3,
   "id": "ebf1444b-35c1-4e0b-81ea-6b56931aac10",
   "metadata": {},
   "outputs": [
    {
     "data": {
      "text/html": [
       "<div>\n",
       "<style scoped>\n",
       "    .dataframe tbody tr th:only-of-type {\n",
       "        vertical-align: middle;\n",
       "    }\n",
       "\n",
       "    .dataframe tbody tr th {\n",
       "        vertical-align: top;\n",
       "    }\n",
       "\n",
       "    .dataframe thead th {\n",
       "        text-align: right;\n",
       "    }\n",
       "</style>\n",
       "<table border=\"1\" class=\"dataframe\">\n",
       "  <thead>\n",
       "    <tr style=\"text-align: right;\">\n",
       "      <th></th>\n",
       "      <th>ID</th>\n",
       "      <th>y</th>\n",
       "      <th>X0</th>\n",
       "      <th>X1</th>\n",
       "      <th>X2</th>\n",
       "      <th>X3</th>\n",
       "      <th>X4</th>\n",
       "      <th>X5</th>\n",
       "      <th>X6</th>\n",
       "      <th>X8</th>\n",
       "      <th>...</th>\n",
       "      <th>X375</th>\n",
       "      <th>X376</th>\n",
       "      <th>X377</th>\n",
       "      <th>X378</th>\n",
       "      <th>X379</th>\n",
       "      <th>X380</th>\n",
       "      <th>X382</th>\n",
       "      <th>X383</th>\n",
       "      <th>X384</th>\n",
       "      <th>X385</th>\n",
       "    </tr>\n",
       "  </thead>\n",
       "  <tbody>\n",
       "    <tr>\n",
       "      <th>0</th>\n",
       "      <td>0</td>\n",
       "      <td>130.81</td>\n",
       "      <td>k</td>\n",
       "      <td>v</td>\n",
       "      <td>at</td>\n",
       "      <td>a</td>\n",
       "      <td>d</td>\n",
       "      <td>u</td>\n",
       "      <td>j</td>\n",
       "      <td>o</td>\n",
       "      <td>...</td>\n",
       "      <td>0</td>\n",
       "      <td>0</td>\n",
       "      <td>1</td>\n",
       "      <td>0</td>\n",
       "      <td>0</td>\n",
       "      <td>0</td>\n",
       "      <td>0</td>\n",
       "      <td>0</td>\n",
       "      <td>0</td>\n",
       "      <td>0</td>\n",
       "    </tr>\n",
       "    <tr>\n",
       "      <th>1</th>\n",
       "      <td>6</td>\n",
       "      <td>88.53</td>\n",
       "      <td>k</td>\n",
       "      <td>t</td>\n",
       "      <td>av</td>\n",
       "      <td>e</td>\n",
       "      <td>d</td>\n",
       "      <td>y</td>\n",
       "      <td>l</td>\n",
       "      <td>o</td>\n",
       "      <td>...</td>\n",
       "      <td>1</td>\n",
       "      <td>0</td>\n",
       "      <td>0</td>\n",
       "      <td>0</td>\n",
       "      <td>0</td>\n",
       "      <td>0</td>\n",
       "      <td>0</td>\n",
       "      <td>0</td>\n",
       "      <td>0</td>\n",
       "      <td>0</td>\n",
       "    </tr>\n",
       "    <tr>\n",
       "      <th>2</th>\n",
       "      <td>7</td>\n",
       "      <td>76.26</td>\n",
       "      <td>az</td>\n",
       "      <td>w</td>\n",
       "      <td>n</td>\n",
       "      <td>c</td>\n",
       "      <td>d</td>\n",
       "      <td>x</td>\n",
       "      <td>j</td>\n",
       "      <td>x</td>\n",
       "      <td>...</td>\n",
       "      <td>0</td>\n",
       "      <td>0</td>\n",
       "      <td>0</td>\n",
       "      <td>0</td>\n",
       "      <td>0</td>\n",
       "      <td>0</td>\n",
       "      <td>1</td>\n",
       "      <td>0</td>\n",
       "      <td>0</td>\n",
       "      <td>0</td>\n",
       "    </tr>\n",
       "    <tr>\n",
       "      <th>3</th>\n",
       "      <td>9</td>\n",
       "      <td>80.62</td>\n",
       "      <td>az</td>\n",
       "      <td>t</td>\n",
       "      <td>n</td>\n",
       "      <td>f</td>\n",
       "      <td>d</td>\n",
       "      <td>x</td>\n",
       "      <td>l</td>\n",
       "      <td>e</td>\n",
       "      <td>...</td>\n",
       "      <td>0</td>\n",
       "      <td>0</td>\n",
       "      <td>0</td>\n",
       "      <td>0</td>\n",
       "      <td>0</td>\n",
       "      <td>0</td>\n",
       "      <td>0</td>\n",
       "      <td>0</td>\n",
       "      <td>0</td>\n",
       "      <td>0</td>\n",
       "    </tr>\n",
       "    <tr>\n",
       "      <th>4</th>\n",
       "      <td>13</td>\n",
       "      <td>78.02</td>\n",
       "      <td>az</td>\n",
       "      <td>v</td>\n",
       "      <td>n</td>\n",
       "      <td>f</td>\n",
       "      <td>d</td>\n",
       "      <td>h</td>\n",
       "      <td>d</td>\n",
       "      <td>n</td>\n",
       "      <td>...</td>\n",
       "      <td>0</td>\n",
       "      <td>0</td>\n",
       "      <td>0</td>\n",
       "      <td>0</td>\n",
       "      <td>0</td>\n",
       "      <td>0</td>\n",
       "      <td>0</td>\n",
       "      <td>0</td>\n",
       "      <td>0</td>\n",
       "      <td>0</td>\n",
       "    </tr>\n",
       "  </tbody>\n",
       "</table>\n",
       "<p>5 rows × 378 columns</p>\n",
       "</div>"
      ],
      "text/plain": [
       "   ID       y  X0 X1  X2 X3 X4 X5 X6 X8  ...  X375  X376  X377  X378  X379  \\\n",
       "0   0  130.81   k  v  at  a  d  u  j  o  ...     0     0     1     0     0   \n",
       "1   6   88.53   k  t  av  e  d  y  l  o  ...     1     0     0     0     0   \n",
       "2   7   76.26  az  w   n  c  d  x  j  x  ...     0     0     0     0     0   \n",
       "3   9   80.62  az  t   n  f  d  x  l  e  ...     0     0     0     0     0   \n",
       "4  13   78.02  az  v   n  f  d  h  d  n  ...     0     0     0     0     0   \n",
       "\n",
       "   X380  X382  X383  X384  X385  \n",
       "0     0     0     0     0     0  \n",
       "1     0     0     0     0     0  \n",
       "2     0     1     0     0     0  \n",
       "3     0     0     0     0     0  \n",
       "4     0     0     0     0     0  \n",
       "\n",
       "[5 rows x 378 columns]"
      ]
     },
     "execution_count": 3,
     "metadata": {},
     "output_type": "execute_result"
    }
   ],
   "source": [
    "dataset.head()"
   ]
  },
  {
   "cell_type": "code",
   "execution_count": 4,
   "id": "9e8cc01b-6ac2-4e94-b1b6-52801fa70b1b",
   "metadata": {},
   "outputs": [
    {
     "name": "stdout",
     "output_type": "stream",
     "text": [
      "<class 'pandas.core.frame.DataFrame'>\n",
      "RangeIndex: 4209 entries, 0 to 4208\n",
      "Columns: 378 entries, ID to X385\n",
      "dtypes: float64(1), int64(369), object(8)\n",
      "memory usage: 12.1+ MB\n"
     ]
    }
   ],
   "source": [
    "dataset.info()"
   ]
  },
  {
   "cell_type": "code",
   "execution_count": 5,
   "id": "6c9f91ef-e803-47a5-8a96-e66a9bba6d18",
   "metadata": {},
   "outputs": [
    {
     "data": {
      "text/html": [
       "<div>\n",
       "<style scoped>\n",
       "    .dataframe tbody tr th:only-of-type {\n",
       "        vertical-align: middle;\n",
       "    }\n",
       "\n",
       "    .dataframe tbody tr th {\n",
       "        vertical-align: top;\n",
       "    }\n",
       "\n",
       "    .dataframe thead th {\n",
       "        text-align: right;\n",
       "    }\n",
       "</style>\n",
       "<table border=\"1\" class=\"dataframe\">\n",
       "  <thead>\n",
       "    <tr style=\"text-align: right;\">\n",
       "      <th></th>\n",
       "      <th>ID</th>\n",
       "      <th>y</th>\n",
       "      <th>X10</th>\n",
       "      <th>X11</th>\n",
       "      <th>X12</th>\n",
       "      <th>X13</th>\n",
       "      <th>X14</th>\n",
       "      <th>X15</th>\n",
       "      <th>X16</th>\n",
       "      <th>X17</th>\n",
       "      <th>...</th>\n",
       "      <th>X375</th>\n",
       "      <th>X376</th>\n",
       "      <th>X377</th>\n",
       "      <th>X378</th>\n",
       "      <th>X379</th>\n",
       "      <th>X380</th>\n",
       "      <th>X382</th>\n",
       "      <th>X383</th>\n",
       "      <th>X384</th>\n",
       "      <th>X385</th>\n",
       "    </tr>\n",
       "  </thead>\n",
       "  <tbody>\n",
       "    <tr>\n",
       "      <th>count</th>\n",
       "      <td>4209.000000</td>\n",
       "      <td>4209.000000</td>\n",
       "      <td>4209.000000</td>\n",
       "      <td>4209.0</td>\n",
       "      <td>4209.000000</td>\n",
       "      <td>4209.000000</td>\n",
       "      <td>4209.000000</td>\n",
       "      <td>4209.000000</td>\n",
       "      <td>4209.000000</td>\n",
       "      <td>4209.000000</td>\n",
       "      <td>...</td>\n",
       "      <td>4209.000000</td>\n",
       "      <td>4209.000000</td>\n",
       "      <td>4209.000000</td>\n",
       "      <td>4209.000000</td>\n",
       "      <td>4209.000000</td>\n",
       "      <td>4209.000000</td>\n",
       "      <td>4209.000000</td>\n",
       "      <td>4209.000000</td>\n",
       "      <td>4209.000000</td>\n",
       "      <td>4209.000000</td>\n",
       "    </tr>\n",
       "    <tr>\n",
       "      <th>mean</th>\n",
       "      <td>4205.960798</td>\n",
       "      <td>100.669318</td>\n",
       "      <td>0.013305</td>\n",
       "      <td>0.0</td>\n",
       "      <td>0.075077</td>\n",
       "      <td>0.057971</td>\n",
       "      <td>0.428130</td>\n",
       "      <td>0.000475</td>\n",
       "      <td>0.002613</td>\n",
       "      <td>0.007603</td>\n",
       "      <td>...</td>\n",
       "      <td>0.318841</td>\n",
       "      <td>0.057258</td>\n",
       "      <td>0.314802</td>\n",
       "      <td>0.020670</td>\n",
       "      <td>0.009503</td>\n",
       "      <td>0.008078</td>\n",
       "      <td>0.007603</td>\n",
       "      <td>0.001663</td>\n",
       "      <td>0.000475</td>\n",
       "      <td>0.001426</td>\n",
       "    </tr>\n",
       "    <tr>\n",
       "      <th>std</th>\n",
       "      <td>2437.608688</td>\n",
       "      <td>12.679381</td>\n",
       "      <td>0.114590</td>\n",
       "      <td>0.0</td>\n",
       "      <td>0.263547</td>\n",
       "      <td>0.233716</td>\n",
       "      <td>0.494867</td>\n",
       "      <td>0.021796</td>\n",
       "      <td>0.051061</td>\n",
       "      <td>0.086872</td>\n",
       "      <td>...</td>\n",
       "      <td>0.466082</td>\n",
       "      <td>0.232363</td>\n",
       "      <td>0.464492</td>\n",
       "      <td>0.142294</td>\n",
       "      <td>0.097033</td>\n",
       "      <td>0.089524</td>\n",
       "      <td>0.086872</td>\n",
       "      <td>0.040752</td>\n",
       "      <td>0.021796</td>\n",
       "      <td>0.037734</td>\n",
       "    </tr>\n",
       "    <tr>\n",
       "      <th>min</th>\n",
       "      <td>0.000000</td>\n",
       "      <td>72.110000</td>\n",
       "      <td>0.000000</td>\n",
       "      <td>0.0</td>\n",
       "      <td>0.000000</td>\n",
       "      <td>0.000000</td>\n",
       "      <td>0.000000</td>\n",
       "      <td>0.000000</td>\n",
       "      <td>0.000000</td>\n",
       "      <td>0.000000</td>\n",
       "      <td>...</td>\n",
       "      <td>0.000000</td>\n",
       "      <td>0.000000</td>\n",
       "      <td>0.000000</td>\n",
       "      <td>0.000000</td>\n",
       "      <td>0.000000</td>\n",
       "      <td>0.000000</td>\n",
       "      <td>0.000000</td>\n",
       "      <td>0.000000</td>\n",
       "      <td>0.000000</td>\n",
       "      <td>0.000000</td>\n",
       "    </tr>\n",
       "    <tr>\n",
       "      <th>25%</th>\n",
       "      <td>2095.000000</td>\n",
       "      <td>90.820000</td>\n",
       "      <td>0.000000</td>\n",
       "      <td>0.0</td>\n",
       "      <td>0.000000</td>\n",
       "      <td>0.000000</td>\n",
       "      <td>0.000000</td>\n",
       "      <td>0.000000</td>\n",
       "      <td>0.000000</td>\n",
       "      <td>0.000000</td>\n",
       "      <td>...</td>\n",
       "      <td>0.000000</td>\n",
       "      <td>0.000000</td>\n",
       "      <td>0.000000</td>\n",
       "      <td>0.000000</td>\n",
       "      <td>0.000000</td>\n",
       "      <td>0.000000</td>\n",
       "      <td>0.000000</td>\n",
       "      <td>0.000000</td>\n",
       "      <td>0.000000</td>\n",
       "      <td>0.000000</td>\n",
       "    </tr>\n",
       "    <tr>\n",
       "      <th>50%</th>\n",
       "      <td>4220.000000</td>\n",
       "      <td>99.150000</td>\n",
       "      <td>0.000000</td>\n",
       "      <td>0.0</td>\n",
       "      <td>0.000000</td>\n",
       "      <td>0.000000</td>\n",
       "      <td>0.000000</td>\n",
       "      <td>0.000000</td>\n",
       "      <td>0.000000</td>\n",
       "      <td>0.000000</td>\n",
       "      <td>...</td>\n",
       "      <td>0.000000</td>\n",
       "      <td>0.000000</td>\n",
       "      <td>0.000000</td>\n",
       "      <td>0.000000</td>\n",
       "      <td>0.000000</td>\n",
       "      <td>0.000000</td>\n",
       "      <td>0.000000</td>\n",
       "      <td>0.000000</td>\n",
       "      <td>0.000000</td>\n",
       "      <td>0.000000</td>\n",
       "    </tr>\n",
       "    <tr>\n",
       "      <th>75%</th>\n",
       "      <td>6314.000000</td>\n",
       "      <td>109.010000</td>\n",
       "      <td>0.000000</td>\n",
       "      <td>0.0</td>\n",
       "      <td>0.000000</td>\n",
       "      <td>0.000000</td>\n",
       "      <td>1.000000</td>\n",
       "      <td>0.000000</td>\n",
       "      <td>0.000000</td>\n",
       "      <td>0.000000</td>\n",
       "      <td>...</td>\n",
       "      <td>1.000000</td>\n",
       "      <td>0.000000</td>\n",
       "      <td>1.000000</td>\n",
       "      <td>0.000000</td>\n",
       "      <td>0.000000</td>\n",
       "      <td>0.000000</td>\n",
       "      <td>0.000000</td>\n",
       "      <td>0.000000</td>\n",
       "      <td>0.000000</td>\n",
       "      <td>0.000000</td>\n",
       "    </tr>\n",
       "    <tr>\n",
       "      <th>max</th>\n",
       "      <td>8417.000000</td>\n",
       "      <td>265.320000</td>\n",
       "      <td>1.000000</td>\n",
       "      <td>0.0</td>\n",
       "      <td>1.000000</td>\n",
       "      <td>1.000000</td>\n",
       "      <td>1.000000</td>\n",
       "      <td>1.000000</td>\n",
       "      <td>1.000000</td>\n",
       "      <td>1.000000</td>\n",
       "      <td>...</td>\n",
       "      <td>1.000000</td>\n",
       "      <td>1.000000</td>\n",
       "      <td>1.000000</td>\n",
       "      <td>1.000000</td>\n",
       "      <td>1.000000</td>\n",
       "      <td>1.000000</td>\n",
       "      <td>1.000000</td>\n",
       "      <td>1.000000</td>\n",
       "      <td>1.000000</td>\n",
       "      <td>1.000000</td>\n",
       "    </tr>\n",
       "  </tbody>\n",
       "</table>\n",
       "<p>8 rows × 370 columns</p>\n",
       "</div>"
      ],
      "text/plain": [
       "                ID            y          X10     X11          X12  \\\n",
       "count  4209.000000  4209.000000  4209.000000  4209.0  4209.000000   \n",
       "mean   4205.960798   100.669318     0.013305     0.0     0.075077   \n",
       "std    2437.608688    12.679381     0.114590     0.0     0.263547   \n",
       "min       0.000000    72.110000     0.000000     0.0     0.000000   \n",
       "25%    2095.000000    90.820000     0.000000     0.0     0.000000   \n",
       "50%    4220.000000    99.150000     0.000000     0.0     0.000000   \n",
       "75%    6314.000000   109.010000     0.000000     0.0     0.000000   \n",
       "max    8417.000000   265.320000     1.000000     0.0     1.000000   \n",
       "\n",
       "               X13          X14          X15          X16          X17  ...  \\\n",
       "count  4209.000000  4209.000000  4209.000000  4209.000000  4209.000000  ...   \n",
       "mean      0.057971     0.428130     0.000475     0.002613     0.007603  ...   \n",
       "std       0.233716     0.494867     0.021796     0.051061     0.086872  ...   \n",
       "min       0.000000     0.000000     0.000000     0.000000     0.000000  ...   \n",
       "25%       0.000000     0.000000     0.000000     0.000000     0.000000  ...   \n",
       "50%       0.000000     0.000000     0.000000     0.000000     0.000000  ...   \n",
       "75%       0.000000     1.000000     0.000000     0.000000     0.000000  ...   \n",
       "max       1.000000     1.000000     1.000000     1.000000     1.000000  ...   \n",
       "\n",
       "              X375         X376         X377         X378         X379  \\\n",
       "count  4209.000000  4209.000000  4209.000000  4209.000000  4209.000000   \n",
       "mean      0.318841     0.057258     0.314802     0.020670     0.009503   \n",
       "std       0.466082     0.232363     0.464492     0.142294     0.097033   \n",
       "min       0.000000     0.000000     0.000000     0.000000     0.000000   \n",
       "25%       0.000000     0.000000     0.000000     0.000000     0.000000   \n",
       "50%       0.000000     0.000000     0.000000     0.000000     0.000000   \n",
       "75%       1.000000     0.000000     1.000000     0.000000     0.000000   \n",
       "max       1.000000     1.000000     1.000000     1.000000     1.000000   \n",
       "\n",
       "              X380         X382         X383         X384         X385  \n",
       "count  4209.000000  4209.000000  4209.000000  4209.000000  4209.000000  \n",
       "mean      0.008078     0.007603     0.001663     0.000475     0.001426  \n",
       "std       0.089524     0.086872     0.040752     0.021796     0.037734  \n",
       "min       0.000000     0.000000     0.000000     0.000000     0.000000  \n",
       "25%       0.000000     0.000000     0.000000     0.000000     0.000000  \n",
       "50%       0.000000     0.000000     0.000000     0.000000     0.000000  \n",
       "75%       0.000000     0.000000     0.000000     0.000000     0.000000  \n",
       "max       1.000000     1.000000     1.000000     1.000000     1.000000  \n",
       "\n",
       "[8 rows x 370 columns]"
      ]
     },
     "execution_count": 5,
     "metadata": {},
     "output_type": "execute_result"
    }
   ],
   "source": [
    "dataset.describe()"
   ]
  },
  {
   "cell_type": "code",
   "execution_count": 6,
   "id": "59a13644-e85b-4989-b8ad-96c1c17c27c7",
   "metadata": {},
   "outputs": [
    {
     "data": {
      "text/plain": [
       "<AxesSubplot:>"
      ]
     },
     "execution_count": 6,
     "metadata": {},
     "output_type": "execute_result"
    },
    {
     "data": {
      "image/png": "[encoded data removed]",
      "text/plain": [
       "<Figure size 432x288 with 1 Axes>"
      ]
     },
     "metadata": {
      "needs_background": "light"
     },
     "output_type": "display_data"
    }
   ],
   "source": [
    "sns.heatmap(dataset.isnull(),yticklabels=False,cbar=False,cmap='viridis')"
   ]
  },
  {
   "cell_type": "markdown",
   "id": "c19c41b2-8de5-4d2b-8caa-1406040d0c08",
   "metadata": {},
   "source": [
    "## There are no null values in this"
   ]
  },
  {
   "cell_type": "code",
   "execution_count": 7,
   "id": "9a941cd3-a073-4982-8211-8f50eef91fa4",
   "metadata": {},
   "outputs": [],
   "source": [
    "X=dataset.drop(columns=['y','ID'])\n",
    "y=dataset['y']"
   ]
  },
  {
   "cell_type": "code",
   "execution_count": 8,
   "id": "56348850-3872-439b-8bdc-ac87be2df1d3",
   "metadata": {},
   "outputs": [
    {
     "data": {
      "text/html": [
       "<div>\n",
       "<style scoped>\n",
       "    .dataframe tbody tr th:only-of-type {\n",
       "        vertical-align: middle;\n",
       "    }\n",
       "\n",
       "    .dataframe tbody tr th {\n",
       "        vertical-align: top;\n",
       "    }\n",
       "\n",
       "    .dataframe thead th {\n",
       "        text-align: right;\n",
       "    }\n",
       "</style>\n",
       "<table border=\"1\" class=\"dataframe\">\n",
       "  <thead>\n",
       "    <tr style=\"text-align: right;\">\n",
       "      <th></th>\n",
       "      <th>X0</th>\n",
       "      <th>X1</th>\n",
       "      <th>X2</th>\n",
       "      <th>X3</th>\n",
       "      <th>X4</th>\n",
       "      <th>X5</th>\n",
       "      <th>X6</th>\n",
       "      <th>X8</th>\n",
       "      <th>X10</th>\n",
       "      <th>X11</th>\n",
       "      <th>...</th>\n",
       "      <th>X375</th>\n",
       "      <th>X376</th>\n",
       "      <th>X377</th>\n",
       "      <th>X378</th>\n",
       "      <th>X379</th>\n",
       "      <th>X380</th>\n",
       "      <th>X382</th>\n",
       "      <th>X383</th>\n",
       "      <th>X384</th>\n",
       "      <th>X385</th>\n",
       "    </tr>\n",
       "  </thead>\n",
       "  <tbody>\n",
       "    <tr>\n",
       "      <th>0</th>\n",
       "      <td>k</td>\n",
       "      <td>v</td>\n",
       "      <td>at</td>\n",
       "      <td>a</td>\n",
       "      <td>d</td>\n",
       "      <td>u</td>\n",
       "      <td>j</td>\n",
       "      <td>o</td>\n",
       "      <td>0</td>\n",
       "      <td>0</td>\n",
       "      <td>...</td>\n",
       "      <td>0</td>\n",
       "      <td>0</td>\n",
       "      <td>1</td>\n",
       "      <td>0</td>\n",
       "      <td>0</td>\n",
       "      <td>0</td>\n",
       "      <td>0</td>\n",
       "      <td>0</td>\n",
       "      <td>0</td>\n",
       "      <td>0</td>\n",
       "    </tr>\n",
       "    <tr>\n",
       "      <th>1</th>\n",
       "      <td>k</td>\n",
       "      <td>t</td>\n",
       "      <td>av</td>\n",
       "      <td>e</td>\n",
       "      <td>d</td>\n",
       "      <td>y</td>\n",
       "      <td>l</td>\n",
       "      <td>o</td>\n",
       "      <td>0</td>\n",
       "      <td>0</td>\n",
       "      <td>...</td>\n",
       "      <td>1</td>\n",
       "      <td>0</td>\n",
       "      <td>0</td>\n",
       "      <td>0</td>\n",
       "      <td>0</td>\n",
       "      <td>0</td>\n",
       "      <td>0</td>\n",
       "      <td>0</td>\n",
       "      <td>0</td>\n",
       "      <td>0</td>\n",
       "    </tr>\n",
       "    <tr>\n",
       "      <th>2</th>\n",
       "      <td>az</td>\n",
       "      <td>w</td>\n",
       "      <td>n</td>\n",
       "      <td>c</td>\n",
       "      <td>d</td>\n",
       "      <td>x</td>\n",
       "      <td>j</td>\n",
       "      <td>x</td>\n",
       "      <td>0</td>\n",
       "      <td>0</td>\n",
       "      <td>...</td>\n",
       "      <td>0</td>\n",
       "      <td>0</td>\n",
       "      <td>0</td>\n",
       "      <td>0</td>\n",
       "      <td>0</td>\n",
       "      <td>0</td>\n",
       "      <td>1</td>\n",
       "      <td>0</td>\n",
       "      <td>0</td>\n",
       "      <td>0</td>\n",
       "    </tr>\n",
       "    <tr>\n",
       "      <th>3</th>\n",
       "      <td>az</td>\n",
       "      <td>t</td>\n",
       "      <td>n</td>\n",
       "      <td>f</td>\n",
       "      <td>d</td>\n",
       "      <td>x</td>\n",
       "      <td>l</td>\n",
       "      <td>e</td>\n",
       "      <td>0</td>\n",
       "      <td>0</td>\n",
       "      <td>...</td>\n",
       "      <td>0</td>\n",
       "      <td>0</td>\n",
       "      <td>0</td>\n",
       "      <td>0</td>\n",
       "      <td>0</td>\n",
       "      <td>0</td>\n",
       "      <td>0</td>\n",
       "      <td>0</td>\n",
       "      <td>0</td>\n",
       "      <td>0</td>\n",
       "    </tr>\n",
       "    <tr>\n",
       "      <th>4</th>\n",
       "      <td>az</td>\n",
       "      <td>v</td>\n",
       "      <td>n</td>\n",
       "      <td>f</td>\n",
       "      <td>d</td>\n",
       "      <td>h</td>\n",
       "      <td>d</td>\n",
       "      <td>n</td>\n",
       "      <td>0</td>\n",
       "      <td>0</td>\n",
       "      <td>...</td>\n",
       "      <td>0</td>\n",
       "      <td>0</td>\n",
       "      <td>0</td>\n",
       "      <td>0</td>\n",
       "      <td>0</td>\n",
       "      <td>0</td>\n",
       "      <td>0</td>\n",
       "      <td>0</td>\n",
       "      <td>0</td>\n",
       "      <td>0</td>\n",
       "    </tr>\n",
       "    <tr>\n",
       "      <th>...</th>\n",
       "      <td>...</td>\n",
       "      <td>...</td>\n",
       "      <td>...</td>\n",
       "      <td>...</td>\n",
       "      <td>...</td>\n",
       "      <td>...</td>\n",
       "      <td>...</td>\n",
       "      <td>...</td>\n",
       "      <td>...</td>\n",
       "      <td>...</td>\n",
       "      <td>...</td>\n",
       "      <td>...</td>\n",
       "      <td>...</td>\n",
       "      <td>...</td>\n",
       "      <td>...</td>\n",
       "      <td>...</td>\n",
       "      <td>...</td>\n",
       "      <td>...</td>\n",
       "      <td>...</td>\n",
       "      <td>...</td>\n",
       "      <td>...</td>\n",
       "    </tr>\n",
       "    <tr>\n",
       "      <th>4204</th>\n",
       "      <td>ak</td>\n",
       "      <td>s</td>\n",
       "      <td>as</td>\n",
       "      <td>c</td>\n",
       "      <td>d</td>\n",
       "      <td>aa</td>\n",
       "      <td>d</td>\n",
       "      <td>q</td>\n",
       "      <td>0</td>\n",
       "      <td>0</td>\n",
       "      <td>...</td>\n",
       "      <td>1</td>\n",
       "      <td>0</td>\n",
       "      <td>0</td>\n",
       "      <td>0</td>\n",
       "      <td>0</td>\n",
       "      <td>0</td>\n",
       "      <td>0</td>\n",
       "      <td>0</td>\n",
       "      <td>0</td>\n",
       "      <td>0</td>\n",
       "    </tr>\n",
       "    <tr>\n",
       "      <th>4205</th>\n",
       "      <td>j</td>\n",
       "      <td>o</td>\n",
       "      <td>t</td>\n",
       "      <td>d</td>\n",
       "      <td>d</td>\n",
       "      <td>aa</td>\n",
       "      <td>h</td>\n",
       "      <td>h</td>\n",
       "      <td>0</td>\n",
       "      <td>0</td>\n",
       "      <td>...</td>\n",
       "      <td>0</td>\n",
       "      <td>1</td>\n",
       "      <td>0</td>\n",
       "      <td>0</td>\n",
       "      <td>0</td>\n",
       "      <td>0</td>\n",
       "      <td>0</td>\n",
       "      <td>0</td>\n",
       "      <td>0</td>\n",
       "      <td>0</td>\n",
       "    </tr>\n",
       "    <tr>\n",
       "      <th>4206</th>\n",
       "      <td>ak</td>\n",
       "      <td>v</td>\n",
       "      <td>r</td>\n",
       "      <td>a</td>\n",
       "      <td>d</td>\n",
       "      <td>aa</td>\n",
       "      <td>g</td>\n",
       "      <td>e</td>\n",
       "      <td>0</td>\n",
       "      <td>0</td>\n",
       "      <td>...</td>\n",
       "      <td>0</td>\n",
       "      <td>0</td>\n",
       "      <td>1</td>\n",
       "      <td>0</td>\n",
       "      <td>0</td>\n",
       "      <td>0</td>\n",
       "      <td>0</td>\n",
       "      <td>0</td>\n",
       "      <td>0</td>\n",
       "      <td>0</td>\n",
       "    </tr>\n",
       "    <tr>\n",
       "      <th>4207</th>\n",
       "      <td>al</td>\n",
       "      <td>r</td>\n",
       "      <td>e</td>\n",
       "      <td>f</td>\n",
       "      <td>d</td>\n",
       "      <td>aa</td>\n",
       "      <td>l</td>\n",
       "      <td>u</td>\n",
       "      <td>0</td>\n",
       "      <td>0</td>\n",
       "      <td>...</td>\n",
       "      <td>0</td>\n",
       "      <td>0</td>\n",
       "      <td>0</td>\n",
       "      <td>0</td>\n",
       "      <td>0</td>\n",
       "      <td>0</td>\n",
       "      <td>0</td>\n",
       "      <td>0</td>\n",
       "      <td>0</td>\n",
       "      <td>0</td>\n",
       "    </tr>\n",
       "    <tr>\n",
       "      <th>4208</th>\n",
       "      <td>z</td>\n",
       "      <td>r</td>\n",
       "      <td>ae</td>\n",
       "      <td>c</td>\n",
       "      <td>d</td>\n",
       "      <td>aa</td>\n",
       "      <td>g</td>\n",
       "      <td>w</td>\n",
       "      <td>0</td>\n",
       "      <td>0</td>\n",
       "      <td>...</td>\n",
       "      <td>1</td>\n",
       "      <td>0</td>\n",
       "      <td>0</td>\n",
       "      <td>0</td>\n",
       "      <td>0</td>\n",
       "      <td>0</td>\n",
       "      <td>0</td>\n",
       "      <td>0</td>\n",
       "      <td>0</td>\n",
       "      <td>0</td>\n",
       "    </tr>\n",
       "  </tbody>\n",
       "</table>\n",
       "<p>4209 rows × 376 columns</p>\n",
       "</div>"
      ],
      "text/plain": [
       "      X0 X1  X2 X3 X4  X5 X6 X8  X10  X11  ...  X375  X376  X377  X378  X379  \\\n",
       "0      k  v  at  a  d   u  j  o    0    0  ...     0     0     1     0     0   \n",
       "1      k  t  av  e  d   y  l  o    0    0  ...     1     0     0     0     0   \n",
       "2     az  w   n  c  d   x  j  x    0    0  ...     0     0     0     0     0   \n",
       "3     az  t   n  f  d   x  l  e    0    0  ...     0     0     0     0     0   \n",
       "4     az  v   n  f  d   h  d  n    0    0  ...     0     0     0     0     0   \n",
       "...   .. ..  .. .. ..  .. .. ..  ...  ...  ...   ...   ...   ...   ...   ...   \n",
       "4204  ak  s  as  c  d  aa  d  q    0    0  ...     1     0     0     0     0   \n",
       "4205   j  o   t  d  d  aa  h  h    0    0  ...     0     1     0     0     0   \n",
       "4206  ak  v   r  a  d  aa  g  e    0    0  ...     0     0     1     0     0   \n",
       "4207  al  r   e  f  d  aa  l  u    0    0  ...     0     0     0     0     0   \n",
       "4208   z  r  ae  c  d  aa  g  w    0    0  ...     1     0     0     0     0   \n",
       "\n",
       "      X380  X382  X383  X384  X385  \n",
       "0        0     0     0     0     0  \n",
       "1        0     0     0     0     0  \n",
       "2        0     1     0     0     0  \n",
       "3        0     0     0     0     0  \n",
       "4        0     0     0     0     0  \n",
       "...    ...   ...   ...   ...   ...  \n",
       "4204     0     0     0     0     0  \n",
       "4205     0     0     0     0     0  \n",
       "4206     0     0     0     0     0  \n",
       "4207     0     0     0     0     0  \n",
       "4208     0     0     0     0     0  \n",
       "\n",
       "[4209 rows x 376 columns]"
      ]
     },
     "execution_count": 8,
     "metadata": {},
     "output_type": "execute_result"
    }
   ],
   "source": [
    "X "
   ]
  },
  {
   "cell_type": "code",
   "execution_count": 9,
   "id": "438ea344-fa10-42e3-b026-6a46ab373ed5",
   "metadata": {},
   "outputs": [
    {
     "data": {
      "text/plain": [
       "0       130.81\n",
       "1        88.53\n",
       "2        76.26\n",
       "3        80.62\n",
       "4        78.02\n",
       "         ...  \n",
       "4204    107.39\n",
       "4205    108.77\n",
       "4206    109.22\n",
       "4207     87.48\n",
       "4208    110.85\n",
       "Name: y, Length: 4209, dtype: float64"
      ]
     },
     "execution_count": 9,
     "metadata": {},
     "output_type": "execute_result"
    }
   ],
   "source": [
    "y"
   ]
  },
  {
   "cell_type": "markdown",
   "id": "429aa362-30fe-437c-b3ef-f83267eb1e39",
   "metadata": {},
   "source": [
    "## Lets Handle the outliers"
   ]
  },
  {
   "cell_type": "code",
   "execution_count": 10,
   "id": "0625820d-a3ff-4181-8a74-3aead6cc8b4d",
   "metadata": {},
   "outputs": [
    {
     "data": {
      "text/plain": [
       "<AxesSubplot:xlabel='y'>"
      ]
     },
     "execution_count": 10,
     "metadata": {},
     "output_type": "execute_result"
    },
    {
     "data": {
      "image/png": "[encoded data removed]",
      "text/plain": [
       "<Figure size 432x288 with 1 Axes>"
      ]
     },
     "metadata": {
      "needs_background": "light"
     },
     "output_type": "display_data"
    }
   ],
   "source": [
    "# plt.figure(figsize=(20,12))\n",
    "sns.boxplot(data=dataset,x='y')"
   ]
  },
  {
   "cell_type": "code",
   "execution_count": 11,
   "id": "09b4d141-6eb7-4cf7-9d11-b74b8811fea7",
   "metadata": {},
   "outputs": [
    {
     "data": {
      "text/plain": [
       "138.70746197239524"
      ]
     },
     "execution_count": 11,
     "metadata": {},
     "output_type": "execute_result"
    }
   ],
   "source": [
    "y.mean()+3*y.std()"
   ]
  },
  {
   "cell_type": "code",
   "execution_count": 12,
   "id": "18639529-1502-4bd3-9d3d-46ec3094a1b8",
   "metadata": {},
   "outputs": [
    {
     "data": {
      "text/plain": [
       "39"
      ]
     },
     "execution_count": 12,
     "metadata": {},
     "output_type": "execute_result"
    }
   ],
   "source": [
    "y[y>(y.mean()+3*y.std())].nunique()"
   ]
  },
  {
   "cell_type": "code",
   "execution_count": 13,
   "id": "763eaf57-84e8-405c-ad33-4f27f37694ec",
   "metadata": {},
   "outputs": [
    {
     "data": {
      "text/plain": [
       "18.190000000000012"
      ]
     },
     "execution_count": 13,
     "metadata": {},
     "output_type": "execute_result"
    }
   ],
   "source": [
    "IQR=y.quantile(0.75)-y.quantile(0.25)\n",
    "IQR"
   ]
  },
  {
   "cell_type": "code",
   "execution_count": 14,
   "id": "e439a862-d982-4a25-b19b-40b4da7ce657",
   "metadata": {},
   "outputs": [],
   "source": [
    "upper_threshold=y.median()+3*IQR\n",
    "lower_threshold=y.median()-3*IQR"
   ]
  },
  {
   "cell_type": "code",
   "execution_count": 15,
   "id": "ec795f8a-3bf7-4a67-af11-2523802ef261",
   "metadata": {},
   "outputs": [
    {
     "data": {
      "text/plain": [
       "(153.72000000000003, 44.57999999999997)"
      ]
     },
     "execution_count": 15,
     "metadata": {},
     "output_type": "execute_result"
    }
   ],
   "source": [
    "upper_threshold,lower_threshold"
   ]
  },
  {
   "cell_type": "code",
   "execution_count": 16,
   "id": "be669ca8-9309-4b6d-b4af-cf164f881fab",
   "metadata": {},
   "outputs": [
    {
     "data": {
      "text/plain": [
       "11"
      ]
     },
     "execution_count": 16,
     "metadata": {},
     "output_type": "execute_result"
    }
   ],
   "source": [
    "len(y[y>upper_threshold])"
   ]
  },
  {
   "cell_type": "code",
   "execution_count": 17,
   "id": "9e5614b4-2779-4ee1-ad13-cc64e39e3fbc",
   "metadata": {},
   "outputs": [
    {
     "data": {
      "text/plain": [
       "0       False\n",
       "1       False\n",
       "2       False\n",
       "3       False\n",
       "4       False\n",
       "        ...  \n",
       "4204    False\n",
       "4205    False\n",
       "4206    False\n",
       "4207    False\n",
       "4208    False\n",
       "Name: y, Length: 4209, dtype: bool"
      ]
     },
     "execution_count": 17,
     "metadata": {},
     "output_type": "execute_result"
    }
   ],
   "source": [
    "y>upper_threshold"
   ]
  },
  {
   "cell_type": "code",
   "execution_count": 18,
   "id": "feed4f97-ba7a-4446-b88b-aa993634405a",
   "metadata": {},
   "outputs": [],
   "source": [
    "y=pd.DataFrame(np.where(y>upper_threshold,upper_threshold,y),columns=['y'])"
   ]
  },
  {
   "cell_type": "code",
   "execution_count": 19,
   "id": "23d2c94d-0e4c-446a-a390-113c61fd49e9",
   "metadata": {},
   "outputs": [
    {
     "data": {
      "text/html": [
       "<div>\n",
       "<style scoped>\n",
       "    .dataframe tbody tr th:only-of-type {\n",
       "        vertical-align: middle;\n",
       "    }\n",
       "\n",
       "    .dataframe tbody tr th {\n",
       "        vertical-align: top;\n",
       "    }\n",
       "\n",
       "    .dataframe thead th {\n",
       "        text-align: right;\n",
       "    }\n",
       "</style>\n",
       "<table border=\"1\" class=\"dataframe\">\n",
       "  <thead>\n",
       "    <tr style=\"text-align: right;\">\n",
       "      <th></th>\n",
       "      <th>y</th>\n",
       "    </tr>\n",
       "  </thead>\n",
       "  <tbody>\n",
       "    <tr>\n",
       "      <th>0</th>\n",
       "      <td>130.81</td>\n",
       "    </tr>\n",
       "    <tr>\n",
       "      <th>1</th>\n",
       "      <td>88.53</td>\n",
       "    </tr>\n",
       "    <tr>\n",
       "      <th>2</th>\n",
       "      <td>76.26</td>\n",
       "    </tr>\n",
       "    <tr>\n",
       "      <th>3</th>\n",
       "      <td>80.62</td>\n",
       "    </tr>\n",
       "    <tr>\n",
       "      <th>4</th>\n",
       "      <td>78.02</td>\n",
       "    </tr>\n",
       "    <tr>\n",
       "      <th>...</th>\n",
       "      <td>...</td>\n",
       "    </tr>\n",
       "    <tr>\n",
       "      <th>4204</th>\n",
       "      <td>107.39</td>\n",
       "    </tr>\n",
       "    <tr>\n",
       "      <th>4205</th>\n",
       "      <td>108.77</td>\n",
       "    </tr>\n",
       "    <tr>\n",
       "      <th>4206</th>\n",
       "      <td>109.22</td>\n",
       "    </tr>\n",
       "    <tr>\n",
       "      <th>4207</th>\n",
       "      <td>87.48</td>\n",
       "    </tr>\n",
       "    <tr>\n",
       "      <th>4208</th>\n",
       "      <td>110.85</td>\n",
       "    </tr>\n",
       "  </tbody>\n",
       "</table>\n",
       "<p>4209 rows × 1 columns</p>\n",
       "</div>"
      ],
      "text/plain": [
       "           y\n",
       "0     130.81\n",
       "1      88.53\n",
       "2      76.26\n",
       "3      80.62\n",
       "4      78.02\n",
       "...      ...\n",
       "4204  107.39\n",
       "4205  108.77\n",
       "4206  109.22\n",
       "4207   87.48\n",
       "4208  110.85\n",
       "\n",
       "[4209 rows x 1 columns]"
      ]
     },
     "execution_count": 19,
     "metadata": {},
     "output_type": "execute_result"
    }
   ],
   "source": [
    "y"
   ]
  },
  {
   "cell_type": "code",
   "execution_count": 20,
   "id": "26e57f55-8b6b-4445-8b9a-265fcba1b60b",
   "metadata": {},
   "outputs": [
    {
     "data": {
      "text/plain": [
       "y    30\n",
       "dtype: int64"
      ]
     },
     "execution_count": 20,
     "metadata": {},
     "output_type": "execute_result"
    }
   ],
   "source": [
    "y[y>(y.mean()+3*y.std())].nunique()"
   ]
  },
  {
   "cell_type": "code",
   "execution_count": 21,
   "id": "cf85eb5f-252b-43d1-994f-36b91a969241",
   "metadata": {},
   "outputs": [
    {
     "data": {
      "text/plain": [
       "<AxesSubplot:xlabel='y', ylabel='Density'>"
      ]
     },
     "execution_count": 21,
     "metadata": {},
     "output_type": "execute_result"
    },
    {
     "data": {
      "image/png": "[encoded data removed]",
      "text/plain": [
       "<Figure size 432x288 with 1 Axes>"
      ]
     },
     "metadata": {
      "needs_background": "light"
     },
     "output_type": "display_data"
    }
   ],
   "source": [
    "sns.distplot(y['y'])"
   ]
  },
  {
   "cell_type": "code",
   "execution_count": 22,
   "id": "aff4d153-8836-41cb-bc16-395bb25117d3",
   "metadata": {},
   "outputs": [
    {
     "data": {
      "text/plain": [
       "<AxesSubplot:xlabel='y'>"
      ]
     },
     "execution_count": 22,
     "metadata": {},
     "output_type": "execute_result"
    },
    {
     "data": {
      "image/png": "[encoded data removed]",
      "text/plain": [
       "<Figure size 432x288 with 1 Axes>"
      ]
     },
     "metadata": {
      "needs_background": "light"
     },
     "output_type": "display_data"
    }
   ],
   "source": [
    "sns.boxplot(data=y,x='y')"
   ]
  },
  {
   "cell_type": "code",
   "execution_count": 23,
   "id": "12337ab4-56d2-4627-befd-23ca05819115",
   "metadata": {},
   "outputs": [
    {
     "data": {
      "text/plain": [
       "<AxesSubplot:xlabel='X1', ylabel='y'>"
      ]
     },
     "execution_count": 23,
     "metadata": {},
     "output_type": "execute_result"
    },
    {
     "data": {
      "image/png": "[encoded data removed]",
      "text/plain": [
       "<Figure size 1440x720 with 1 Axes>"
      ]
     },
     "metadata": {
      "needs_background": "light"
     },
     "output_type": "display_data"
    }
   ],
   "source": [
    "plt.figure(figsize=(20,10))\n",
    "sns.boxplot(data=dataset,x='X1',y='y')"
   ]
  },
  {
   "cell_type": "code",
   "execution_count": 24,
   "id": "d3d95bb7-9c17-4698-af59-2242d6874d51",
   "metadata": {},
   "outputs": [
    {
     "data": {
      "text/plain": [
       "<AxesSubplot:>"
      ]
     },
     "execution_count": 24,
     "metadata": {},
     "output_type": "execute_result"
    },
    {
     "data": {
      "image/png": "[encoded data removed]",
      "text/plain": [
       "<Figure size 432x288 with 2 Axes>"
      ]
     },
     "metadata": {
      "needs_background": "light"
     },
     "output_type": "display_data"
    }
   ],
   "source": [
    "df_corr=X.corr()\n",
    "df_corr_index=df_corr.index\n",
    "sns.heatmap(X[df_corr_index].corr())"
   ]
  },
  {
   "cell_type": "markdown",
   "id": "b6b0ec03-449f-4f5f-8c54-8ff41a13eb8e",
   "metadata": {
    "tags": []
   },
   "source": [
    "## We have split the train and test now lets separate the categorical variables"
   ]
  },
  {
   "cell_type": "code",
   "execution_count": 25,
   "id": "bf7a22c3-c323-4651-a387-46472769f8df",
   "metadata": {},
   "outputs": [],
   "source": [
    "cat_cols=X.select_dtypes(include='object').columns.values.tolist()"
   ]
  },
  {
   "cell_type": "code",
   "execution_count": 26,
   "id": "8ca665d8-3769-4442-bf3a-94acfd2a51cd",
   "metadata": {},
   "outputs": [
    {
     "data": {
      "text/plain": [
       "['X0', 'X1', 'X2', 'X3', 'X4', 'X5', 'X6', 'X8']"
      ]
     },
     "execution_count": 26,
     "metadata": {},
     "output_type": "execute_result"
    }
   ],
   "source": [
    "cat_cols"
   ]
  },
  {
   "cell_type": "code",
   "execution_count": 27,
   "id": "084237f8-edc0-4cbf-84c0-bc1285e02621",
   "metadata": {},
   "outputs": [
    {
     "data": {
      "text/plain": [
       "(4209, 376)"
      ]
     },
     "execution_count": 27,
     "metadata": {},
     "output_type": "execute_result"
    }
   ],
   "source": [
    "X.shape"
   ]
  },
  {
   "cell_type": "markdown",
   "id": "9af1eb49-2be5-4ae0-b224-d75e2e20f16b",
   "metadata": {},
   "source": [
    "## So these are the categorical variables and rest are numerical variables"
   ]
  },
  {
   "cell_type": "markdown",
   "id": "9fa6a438-8067-4e0c-a6b9-fc29a6712906",
   "metadata": {},
   "source": [
    "### Lets try to look at numerical variables and eliminate columns which have only one distinct feature"
   ]
  },
  {
   "cell_type": "code",
   "execution_count": 28,
   "id": "90793a21-9caa-40dc-a0b1-2f82a730f14c",
   "metadata": {},
   "outputs": [],
   "source": [
    "num_cols=X.select_dtypes(exclude='object').columns.values.tolist()"
   ]
  },
  {
   "cell_type": "code",
   "execution_count": 29,
   "id": "aec1291e-3dc4-4252-a888-5f5eff8ca5a1",
   "metadata": {},
   "outputs": [
    {
     "data": {
      "text/plain": [
       "['X10', 'X11', 'X12', 'X13', 'X14', 'X15', 'X16', 'X17', 'X18', 'X19']"
      ]
     },
     "execution_count": 29,
     "metadata": {},
     "output_type": "execute_result"
    }
   ],
   "source": [
    "num_cols[:10]"
   ]
  },
  {
   "cell_type": "code",
   "execution_count": 30,
   "id": "bf0cd545-d698-47d6-a270-c9e41abe5f0b",
   "metadata": {},
   "outputs": [
    {
     "data": {
      "text/plain": [
       "27"
      ]
     },
     "execution_count": 30,
     "metadata": {},
     "output_type": "execute_result"
    }
   ],
   "source": [
    "X['X1'].nunique()"
   ]
  },
  {
   "cell_type": "code",
   "execution_count": 31,
   "id": "41e01dcf-504a-42a6-afcb-82e0218426ea",
   "metadata": {},
   "outputs": [],
   "source": [
    "removed_cols=[]\n",
    "for col in num_cols:\n",
    "    if X[col].nunique()==1:\n",
    "        X=X.drop(labels=col,axis=1)\n",
    "        removed_cols.append(col)"
   ]
  },
  {
   "cell_type": "code",
   "execution_count": 32,
   "id": "b42f2c6f-0383-4465-ba2e-4567ec209acb",
   "metadata": {},
   "outputs": [
    {
     "data": {
      "text/plain": [
       "['X11',\n",
       " 'X93',\n",
       " 'X107',\n",
       " 'X233',\n",
       " 'X235',\n",
       " 'X268',\n",
       " 'X289',\n",
       " 'X290',\n",
       " 'X293',\n",
       " 'X297',\n",
       " 'X330',\n",
       " 'X347']"
      ]
     },
     "execution_count": 32,
     "metadata": {},
     "output_type": "execute_result"
    }
   ],
   "source": [
    "removed_cols"
   ]
  },
  {
   "cell_type": "code",
   "execution_count": 33,
   "id": "0bc7dbef-074c-4701-83d0-ff5dd48200ba",
   "metadata": {},
   "outputs": [
    {
     "data": {
      "text/plain": [
       "(4209, 364)"
      ]
     },
     "execution_count": 33,
     "metadata": {},
     "output_type": "execute_result"
    }
   ],
   "source": [
    "X.shape"
   ]
  },
  {
   "cell_type": "code",
   "execution_count": 34,
   "id": "7c36274d-52ea-4214-a498-03a73619ce5b",
   "metadata": {},
   "outputs": [
    {
     "data": {
      "text/plain": [
       "(4209, 378)"
      ]
     },
     "execution_count": 34,
     "metadata": {},
     "output_type": "execute_result"
    }
   ],
   "source": [
    "dataset.shape"
   ]
  },
  {
   "cell_type": "markdown",
   "id": "5457583c-b0f3-4e8b-82e3-5eda6de63750",
   "metadata": {},
   "source": [
    "## As we see these features have only one distinct variable meaning they dont difer with target variable and we now have 364 columns with us abit less but still not soo good"
   ]
  },
  {
   "cell_type": "markdown",
   "id": "c9e873dd-b7ab-499e-ae80-3f0749957479",
   "metadata": {},
   "source": [
    "### Lets try to handle the categorical variables using Mean encoding and not do the Label encoder directly"
   ]
  },
  {
   "cell_type": "code",
   "execution_count": 35,
   "id": "1db6d5dc-23b7-4f9c-8969-c28dd7724565",
   "metadata": {},
   "outputs": [],
   "source": [
    "from sklearn.preprocessing import LabelEncoder,OrdinalEncoder,OneHotEncoder\n",
    "from sklearn.preprocessing import StandardScaler,MinMaxScaler\n",
    "minmax=MinMaxScaler(feature_range=(0,1))\n",
    "scaler=StandardScaler()\n",
    "le=LabelEncoder()\n",
    "oe=OrdinalEncoder()\n",
    "ohe=OneHotEncoder(sparse=False,drop='first')"
   ]
  },
  {
   "cell_type": "code",
   "execution_count": 36,
   "id": "229c6cbf-8c89-42ef-a67b-172c0fad141f",
   "metadata": {},
   "outputs": [],
   "source": [
    "# # Mean ecnoding\n",
    "# for col in cat_cols:\n",
    "#     Mean_encoded_col=dataset.groupby(col)['y'].mean().to_dict()\n",
    "#     X[col+'_Enc']=X[col].map(Mean_encoded_col)\n",
    "#     X[[col+'_Enc']]=scaler.fit_transform(X[[col+'_Enc']])\n",
    "#     X=X.drop(labels=(col),axis=1)"
   ]
  },
  {
   "cell_type": "code",
   "execution_count": 37,
   "id": "492e2a58-3f1a-4ed9-85fc-afb6768dd642",
   "metadata": {},
   "outputs": [],
   "source": [
    "# Mean ecnoding\n",
    "for col in cat_cols:\n",
    "    Mean_encoded_col=dataset.groupby(col)['y'].median().sort_values(ascending=True).index\n",
    "    encoded_col={k:i for i,k in enumerate(Mean_encoded_col,0)}\n",
    "    X[col]=X[col].map(encoded_col)\n",
    "    X[[col]]=scaler.fit_transform(X[[col]])"
   ]
  },
  {
   "cell_type": "code",
   "execution_count": 38,
   "id": "3277ac84-d490-42eb-ac8c-bcfdd5af2f5c",
   "metadata": {},
   "outputs": [
    {
     "data": {
      "text/plain": [
       "<AxesSubplot:xlabel='X1', ylabel='Density'>"
      ]
     },
     "execution_count": 38,
     "metadata": {},
     "output_type": "execute_result"
    },
    {
     "data": {
      "image/png": "[encoded data removed]",
      "text/plain": [
       "<Figure size 432x288 with 1 Axes>"
      ]
     },
     "metadata": {
      "needs_background": "light"
     },
     "output_type": "display_data"
    }
   ],
   "source": [
    "sns.distplot(X['X1'])"
   ]
  },
  {
   "cell_type": "code",
   "execution_count": 39,
   "id": "5f91fb9f-dd67-4c8a-9834-3f2c994529c0",
   "metadata": {},
   "outputs": [
    {
     "data": {
      "text/plain": [
       "<AxesSubplot:xlabel='X1', ylabel='Density'>"
      ]
     },
     "execution_count": 39,
     "metadata": {},
     "output_type": "execute_result"
    },
    {
     "data": {
      "image/png": "[encoded data removed]",
      "text/plain": [
       "<Figure size 432x288 with 1 Axes>"
      ]
     },
     "metadata": {
      "needs_background": "light"
     },
     "output_type": "display_data"
    }
   ],
   "source": [
    "sns.distplot(X['X1'])"
   ]
  },
  {
   "cell_type": "code",
   "execution_count": 40,
   "id": "e173bc32-a5eb-41cd-8b47-76e11796fead",
   "metadata": {},
   "outputs": [
    {
     "data": {
      "text/html": [
       "<div>\n",
       "<style scoped>\n",
       "    .dataframe tbody tr th:only-of-type {\n",
       "        vertical-align: middle;\n",
       "    }\n",
       "\n",
       "    .dataframe tbody tr th {\n",
       "        vertical-align: top;\n",
       "    }\n",
       "\n",
       "    .dataframe thead th {\n",
       "        text-align: right;\n",
       "    }\n",
       "</style>\n",
       "<table border=\"1\" class=\"dataframe\">\n",
       "  <thead>\n",
       "    <tr style=\"text-align: right;\">\n",
       "      <th></th>\n",
       "      <th>X0</th>\n",
       "      <th>X1</th>\n",
       "      <th>X2</th>\n",
       "      <th>X3</th>\n",
       "      <th>X4</th>\n",
       "      <th>X5</th>\n",
       "      <th>X6</th>\n",
       "      <th>X8</th>\n",
       "      <th>X10</th>\n",
       "      <th>X12</th>\n",
       "      <th>...</th>\n",
       "      <th>X375</th>\n",
       "      <th>X376</th>\n",
       "      <th>X377</th>\n",
       "      <th>X378</th>\n",
       "      <th>X379</th>\n",
       "      <th>X380</th>\n",
       "      <th>X382</th>\n",
       "      <th>X383</th>\n",
       "      <th>X384</th>\n",
       "      <th>X385</th>\n",
       "    </tr>\n",
       "  </thead>\n",
       "  <tbody>\n",
       "    <tr>\n",
       "      <th>0</th>\n",
       "      <td>-0.569254</td>\n",
       "      <td>1.038413</td>\n",
       "      <td>-0.021439</td>\n",
       "      <td>0.991342</td>\n",
       "      <td>-0.02787</td>\n",
       "      <td>2.015517</td>\n",
       "      <td>0.505337</td>\n",
       "      <td>-1.726468</td>\n",
       "      <td>0</td>\n",
       "      <td>0</td>\n",
       "      <td>...</td>\n",
       "      <td>0</td>\n",
       "      <td>0</td>\n",
       "      <td>1</td>\n",
       "      <td>0</td>\n",
       "      <td>0</td>\n",
       "      <td>0</td>\n",
       "      <td>0</td>\n",
       "      <td>0</td>\n",
       "      <td>0</td>\n",
       "      <td>0</td>\n",
       "    </tr>\n",
       "    <tr>\n",
       "      <th>1</th>\n",
       "      <td>-0.569254</td>\n",
       "      <td>-2.296338</td>\n",
       "      <td>-1.579135</td>\n",
       "      <td>-0.529454</td>\n",
       "      <td>-0.02787</td>\n",
       "      <td>-2.219217</td>\n",
       "      <td>-1.195327</td>\n",
       "      <td>-1.726468</td>\n",
       "      <td>0</td>\n",
       "      <td>0</td>\n",
       "      <td>...</td>\n",
       "      <td>1</td>\n",
       "      <td>0</td>\n",
       "      <td>0</td>\n",
       "      <td>0</td>\n",
       "      <td>0</td>\n",
       "      <td>0</td>\n",
       "      <td>0</td>\n",
       "      <td>0</td>\n",
       "      <td>0</td>\n",
       "      <td>0</td>\n",
       "    </tr>\n",
       "    <tr>\n",
       "      <th>2</th>\n",
       "      <td>-1.995949</td>\n",
       "      <td>-1.904014</td>\n",
       "      <td>-1.912927</td>\n",
       "      <td>0.484410</td>\n",
       "      <td>-0.02787</td>\n",
       "      <td>-2.382091</td>\n",
       "      <td>0.505337</td>\n",
       "      <td>-1.173646</td>\n",
       "      <td>0</td>\n",
       "      <td>0</td>\n",
       "      <td>...</td>\n",
       "      <td>0</td>\n",
       "      <td>0</td>\n",
       "      <td>0</td>\n",
       "      <td>0</td>\n",
       "      <td>0</td>\n",
       "      <td>0</td>\n",
       "      <td>1</td>\n",
       "      <td>0</td>\n",
       "      <td>0</td>\n",
       "      <td>0</td>\n",
       "    </tr>\n",
       "    <tr>\n",
       "      <th>3</th>\n",
       "      <td>-1.995949</td>\n",
       "      <td>-2.296338</td>\n",
       "      <td>-1.912927</td>\n",
       "      <td>-1.543319</td>\n",
       "      <td>-0.02787</td>\n",
       "      <td>-2.382091</td>\n",
       "      <td>-1.195327</td>\n",
       "      <td>1.590462</td>\n",
       "      <td>0</td>\n",
       "      <td>0</td>\n",
       "      <td>...</td>\n",
       "      <td>0</td>\n",
       "      <td>0</td>\n",
       "      <td>0</td>\n",
       "      <td>0</td>\n",
       "      <td>0</td>\n",
       "      <td>0</td>\n",
       "      <td>0</td>\n",
       "      <td>0</td>\n",
       "      <td>0</td>\n",
       "      <td>0</td>\n",
       "    </tr>\n",
       "    <tr>\n",
       "      <th>4</th>\n",
       "      <td>-1.995949</td>\n",
       "      <td>1.038413</td>\n",
       "      <td>-1.912927</td>\n",
       "      <td>-1.543319</td>\n",
       "      <td>-0.02787</td>\n",
       "      <td>-2.544966</td>\n",
       "      <td>1.072225</td>\n",
       "      <td>1.037641</td>\n",
       "      <td>0</td>\n",
       "      <td>0</td>\n",
       "      <td>...</td>\n",
       "      <td>0</td>\n",
       "      <td>0</td>\n",
       "      <td>0</td>\n",
       "      <td>0</td>\n",
       "      <td>0</td>\n",
       "      <td>0</td>\n",
       "      <td>0</td>\n",
       "      <td>0</td>\n",
       "      <td>0</td>\n",
       "      <td>0</td>\n",
       "    </tr>\n",
       "    <tr>\n",
       "      <th>...</th>\n",
       "      <td>...</td>\n",
       "      <td>...</td>\n",
       "      <td>...</td>\n",
       "      <td>...</td>\n",
       "      <td>...</td>\n",
       "      <td>...</td>\n",
       "      <td>...</td>\n",
       "      <td>...</td>\n",
       "      <td>...</td>\n",
       "      <td>...</td>\n",
       "      <td>...</td>\n",
       "      <td>...</td>\n",
       "      <td>...</td>\n",
       "      <td>...</td>\n",
       "      <td>...</td>\n",
       "      <td>...</td>\n",
       "      <td>...</td>\n",
       "      <td>...</td>\n",
       "      <td>...</td>\n",
       "      <td>...</td>\n",
       "      <td>...</td>\n",
       "    </tr>\n",
       "    <tr>\n",
       "      <th>4204</th>\n",
       "      <td>1.333005</td>\n",
       "      <td>0.842251</td>\n",
       "      <td>0.646145</td>\n",
       "      <td>0.484410</td>\n",
       "      <td>-0.02787</td>\n",
       "      <td>-1.730594</td>\n",
       "      <td>1.072225</td>\n",
       "      <td>0.899435</td>\n",
       "      <td>0</td>\n",
       "      <td>0</td>\n",
       "      <td>...</td>\n",
       "      <td>1</td>\n",
       "      <td>0</td>\n",
       "      <td>0</td>\n",
       "      <td>0</td>\n",
       "      <td>0</td>\n",
       "      <td>0</td>\n",
       "      <td>0</td>\n",
       "      <td>0</td>\n",
       "      <td>0</td>\n",
       "      <td>0</td>\n",
       "    </tr>\n",
       "    <tr>\n",
       "      <th>4205</th>\n",
       "      <td>1.047666</td>\n",
       "      <td>-1.707852</td>\n",
       "      <td>1.536257</td>\n",
       "      <td>1.498274</td>\n",
       "      <td>-0.02787</td>\n",
       "      <td>-1.730594</td>\n",
       "      <td>1.639113</td>\n",
       "      <td>1.452257</td>\n",
       "      <td>0</td>\n",
       "      <td>0</td>\n",
       "      <td>...</td>\n",
       "      <td>0</td>\n",
       "      <td>1</td>\n",
       "      <td>0</td>\n",
       "      <td>0</td>\n",
       "      <td>0</td>\n",
       "      <td>0</td>\n",
       "      <td>0</td>\n",
       "      <td>0</td>\n",
       "      <td>0</td>\n",
       "      <td>0</td>\n",
       "    </tr>\n",
       "    <tr>\n",
       "      <th>4206</th>\n",
       "      <td>1.333005</td>\n",
       "      <td>1.038413</td>\n",
       "      <td>1.091201</td>\n",
       "      <td>0.991342</td>\n",
       "      <td>-0.02787</td>\n",
       "      <td>-1.730594</td>\n",
       "      <td>-0.628439</td>\n",
       "      <td>1.590462</td>\n",
       "      <td>0</td>\n",
       "      <td>1</td>\n",
       "      <td>...</td>\n",
       "      <td>0</td>\n",
       "      <td>0</td>\n",
       "      <td>1</td>\n",
       "      <td>0</td>\n",
       "      <td>0</td>\n",
       "      <td>0</td>\n",
       "      <td>0</td>\n",
       "      <td>0</td>\n",
       "      <td>0</td>\n",
       "      <td>0</td>\n",
       "    </tr>\n",
       "    <tr>\n",
       "      <th>4207</th>\n",
       "      <td>-1.139932</td>\n",
       "      <td>-0.727043</td>\n",
       "      <td>-0.355231</td>\n",
       "      <td>-1.543319</td>\n",
       "      <td>-0.02787</td>\n",
       "      <td>-1.730594</td>\n",
       "      <td>-1.195327</td>\n",
       "      <td>0.346614</td>\n",
       "      <td>0</td>\n",
       "      <td>0</td>\n",
       "      <td>...</td>\n",
       "      <td>0</td>\n",
       "      <td>0</td>\n",
       "      <td>0</td>\n",
       "      <td>0</td>\n",
       "      <td>0</td>\n",
       "      <td>0</td>\n",
       "      <td>0</td>\n",
       "      <td>0</td>\n",
       "      <td>0</td>\n",
       "      <td>0</td>\n",
       "    </tr>\n",
       "    <tr>\n",
       "      <th>4208</th>\n",
       "      <td>-0.379028</td>\n",
       "      <td>-0.727043</td>\n",
       "      <td>-0.689023</td>\n",
       "      <td>0.484410</td>\n",
       "      <td>-0.02787</td>\n",
       "      <td>-1.730594</td>\n",
       "      <td>-0.628439</td>\n",
       "      <td>-1.035441</td>\n",
       "      <td>0</td>\n",
       "      <td>0</td>\n",
       "      <td>...</td>\n",
       "      <td>1</td>\n",
       "      <td>0</td>\n",
       "      <td>0</td>\n",
       "      <td>0</td>\n",
       "      <td>0</td>\n",
       "      <td>0</td>\n",
       "      <td>0</td>\n",
       "      <td>0</td>\n",
       "      <td>0</td>\n",
       "      <td>0</td>\n",
       "    </tr>\n",
       "  </tbody>\n",
       "</table>\n",
       "<p>4209 rows × 364 columns</p>\n",
       "</div>"
      ],
      "text/plain": [
       "            X0        X1        X2        X3       X4        X5        X6  \\\n",
       "0    -0.569254  1.038413 -0.021439  0.991342 -0.02787  2.015517  0.505337   \n",
       "1    -0.569254 -2.296338 -1.579135 -0.529454 -0.02787 -2.219217 -1.195327   \n",
       "2    -1.995949 -1.904014 -1.912927  0.484410 -0.02787 -2.382091  0.505337   \n",
       "3    -1.995949 -2.296338 -1.912927 -1.543319 -0.02787 -2.382091 -1.195327   \n",
       "4    -1.995949  1.038413 -1.912927 -1.543319 -0.02787 -2.544966  1.072225   \n",
       "...        ...       ...       ...       ...      ...       ...       ...   \n",
       "4204  1.333005  0.842251  0.646145  0.484410 -0.02787 -1.730594  1.072225   \n",
       "4205  1.047666 -1.707852  1.536257  1.498274 -0.02787 -1.730594  1.639113   \n",
       "4206  1.333005  1.038413  1.091201  0.991342 -0.02787 -1.730594 -0.628439   \n",
       "4207 -1.139932 -0.727043 -0.355231 -1.543319 -0.02787 -1.730594 -1.195327   \n",
       "4208 -0.379028 -0.727043 -0.689023  0.484410 -0.02787 -1.730594 -0.628439   \n",
       "\n",
       "            X8  X10  X12  ...  X375  X376  X377  X378  X379  X380  X382  X383  \\\n",
       "0    -1.726468    0    0  ...     0     0     1     0     0     0     0     0   \n",
       "1    -1.726468    0    0  ...     1     0     0     0     0     0     0     0   \n",
       "2    -1.173646    0    0  ...     0     0     0     0     0     0     1     0   \n",
       "3     1.590462    0    0  ...     0     0     0     0     0     0     0     0   \n",
       "4     1.037641    0    0  ...     0     0     0     0     0     0     0     0   \n",
       "...        ...  ...  ...  ...   ...   ...   ...   ...   ...   ...   ...   ...   \n",
       "4204  0.899435    0    0  ...     1     0     0     0     0     0     0     0   \n",
       "4205  1.452257    0    0  ...     0     1     0     0     0     0     0     0   \n",
       "4206  1.590462    0    1  ...     0     0     1     0     0     0     0     0   \n",
       "4207  0.346614    0    0  ...     0     0     0     0     0     0     0     0   \n",
       "4208 -1.035441    0    0  ...     1     0     0     0     0     0     0     0   \n",
       "\n",
       "      X384  X385  \n",
       "0        0     0  \n",
       "1        0     0  \n",
       "2        0     0  \n",
       "3        0     0  \n",
       "4        0     0  \n",
       "...    ...   ...  \n",
       "4204     0     0  \n",
       "4205     0     0  \n",
       "4206     0     0  \n",
       "4207     0     0  \n",
       "4208     0     0  \n",
       "\n",
       "[4209 rows x 364 columns]"
      ]
     },
     "execution_count": 40,
     "metadata": {},
     "output_type": "execute_result"
    }
   ],
   "source": [
    "X"
   ]
  },
  {
   "cell_type": "code",
   "execution_count": 41,
   "id": "e4458c79-376d-480e-b569-8811648b4010",
   "metadata": {},
   "outputs": [],
   "source": [
    "# #One hot encoder\n",
    "# One_hot_encoded=ohe.fit_transform(X[cat_cols])\n",
    "# columns=ohe.get_feature_names()\n",
    "# X[columns]=One_hot_encoded\n",
    "# X.drop(cat_cols,axis=1,inplace=True)"
   ]
  },
  {
   "cell_type": "code",
   "execution_count": 42,
   "id": "ea9ee79f-e731-42b9-90c9-91bf0bd0807e",
   "metadata": {},
   "outputs": [],
   "source": [
    "# #Frequency encoding\n",
    "# for col in cat_cols:\n",
    "#     frequency_cols=X[col].value_counts().to_dict()\n",
    "#     X[col]=X[col].map(frequency_cols)"
   ]
  },
  {
   "cell_type": "code",
   "execution_count": 43,
   "id": "af24400f-0d41-40d0-8f12-db5449022b50",
   "metadata": {},
   "outputs": [],
   "source": [
    "# top_10=X['X0'].value_counts().sort_values(ascending=False).head(10).index.to_list()\n",
    "# top_10"
   ]
  },
  {
   "cell_type": "code",
   "execution_count": 44,
   "id": "cfa5f3ce-9ac7-4e1a-97cc-02613d0363c1",
   "metadata": {},
   "outputs": [],
   "source": [
    "# for features in cat_cols:\n",
    "#     top_10=X[features].value_counts().sort_values(ascending=False).head(10).index.to_list()\n",
    "#     for categories in top_10:\n",
    "#         X[features+'_'+categories]=np.where(X[features]==categories,1,0)\n",
    "#     X.drop(features,inplace=True,axis=1)"
   ]
  },
  {
   "cell_type": "code",
   "execution_count": 45,
   "id": "cb81f9ce-b33d-4a65-b568-33c9826c44fe",
   "metadata": {},
   "outputs": [
    {
     "data": {
      "text/plain": [
       "(4209, 364)"
      ]
     },
     "execution_count": 45,
     "metadata": {},
     "output_type": "execute_result"
    }
   ],
   "source": [
    "X.shape"
   ]
  },
  {
   "cell_type": "markdown",
   "id": "ea9cb72d-1399-447d-8360-9e722d25f4ce",
   "metadata": {},
   "source": [
    "## Train Test Split"
   ]
  },
  {
   "cell_type": "code",
   "execution_count": 46,
   "id": "78ffdd68-5aba-4b4a-93a8-30de3e697dc2",
   "metadata": {},
   "outputs": [
    {
     "data": {
      "image/png": "[encoded data removed]",
      "text/plain": [
       "<Figure size 432x288 with 1 Axes>"
      ]
     },
     "metadata": {
      "needs_background": "light"
     },
     "output_type": "display_data"
    }
   ],
   "source": [
    "from sklearn.decomposition import PCA\n",
    "pca = PCA().fit(X)\n",
    "plt.grid()\n",
    "plt.plot(np.cumsum(pca.explained_variance_ratio_))\n",
    "plt.xlabel('number of components')\n",
    "plt.ylabel('cumulative explained variance');"
   ]
  },
  {
   "cell_type": "code",
   "execution_count": 47,
   "id": "09a28b80-4694-4a41-b913-795585f7a1a7",
   "metadata": {},
   "outputs": [
    {
     "data": {
      "text/plain": [
       "PCA(n_components=120, random_state=42)"
      ]
     },
     "execution_count": 47,
     "metadata": {},
     "output_type": "execute_result"
    }
   ],
   "source": [
    "pca=PCA(n_components=120,random_state=42)\n",
    "pca.fit(X)"
   ]
  },
  {
   "cell_type": "code",
   "execution_count": 48,
   "id": "c116bd92-174d-4ae4-8433-46c4902a6797",
   "metadata": {},
   "outputs": [],
   "source": [
    "X_pca=pca.transform(X)"
   ]
  },
  {
   "cell_type": "code",
   "execution_count": 49,
   "id": "3f38a99e-7e58-4057-a852-f444c03dbc23",
   "metadata": {},
   "outputs": [],
   "source": [
    "from sklearn.model_selection import train_test_split\n",
    "X_train,X_test,y_train,y_test=train_test_split(X_pca,y,test_size=0.1,random_state=42)"
   ]
  },
  {
   "cell_type": "code",
   "execution_count": 50,
   "id": "4dc96f97-6402-456d-a460-a21cea8580db",
   "metadata": {
    "scrolled": true,
    "tags": []
   },
   "outputs": [
    {
     "data": {
      "text/plain": [
       "array([[-3.60981637e+00, -2.21793939e+00, -1.22217977e+00, ...,\n",
       "         2.77428460e-02, -5.88548188e-02, -3.39971812e-02],\n",
       "       [-9.92354351e-01, -2.39492122e+00,  1.41780470e+00, ...,\n",
       "        -2.46264896e-02,  3.00387032e-03,  3.46685841e-02],\n",
       "       [-4.24757626e-01,  6.34275303e-01, -4.14522509e-01, ...,\n",
       "        -3.58066237e-02, -6.47634389e-02,  5.24085600e-02],\n",
       "       ...,\n",
       "       [ 2.91474795e+00,  2.77394985e-01,  1.42384434e+00, ...,\n",
       "        -1.11847859e-02, -2.79991105e-02,  3.68384446e-02],\n",
       "       [ 2.68843907e+00, -1.01920229e+00, -3.32528531e-01, ...,\n",
       "         6.52996300e-02, -1.18855194e-02,  4.92545821e-02],\n",
       "       [-3.79025507e-01,  1.31347016e+00, -8.81787789e-01, ...,\n",
       "         3.27024017e-02,  6.74902517e-02, -1.51140740e-01]])"
      ]
     },
     "execution_count": 50,
     "metadata": {},
     "output_type": "execute_result"
    }
   ],
   "source": [
    "X_test"
   ]
  },
  {
   "cell_type": "code",
   "execution_count": 51,
   "id": "95c5dde4-61fa-4d73-86a5-f79adb8e1616",
   "metadata": {},
   "outputs": [
    {
     "data": {
      "text/plain": [
       "0.5736839518919845"
      ]
     },
     "execution_count": 51,
     "metadata": {},
     "output_type": "execute_result"
    }
   ],
   "source": [
    "from sklearn.linear_model import LinearRegression,LogisticRegression\n",
    "from sklearn.model_selection import cross_val_score,cross_val_predict\n",
    "linear=LinearRegression()\n",
    "mse=cross_val_score(linear,X_train,y_train,scoring='r2',cv=5)\n",
    "mse_=np.mean(mse)\n",
    "mse_"
   ]
  },
  {
   "cell_type": "code",
   "execution_count": 52,
   "id": "0c6f8058-1b08-438d-aaf2-b0417edf5e76",
   "metadata": {},
   "outputs": [
    {
     "data": {
      "text/plain": [
       "0.5726056331823134"
      ]
     },
     "execution_count": 52,
     "metadata": {},
     "output_type": "execute_result"
    }
   ],
   "source": [
    "from sklearn.metrics import r2_score,accuracy_score\n",
    "mse=cross_val_predict(linear,X_train,y_train,method='predict',cv=5)\n",
    "r2_score(y_train,mse)"
   ]
  },
  {
   "cell_type": "code",
   "execution_count": 53,
   "id": "01140244-7461-4013-8fd0-ce5cacee255e",
   "metadata": {},
   "outputs": [
    {
     "data": {
      "text/plain": [
       "LinearRegression()"
      ]
     },
     "execution_count": 53,
     "metadata": {},
     "output_type": "execute_result"
    }
   ],
   "source": [
    "from sklearn.linear_model import LinearRegression,LogisticRegression\n",
    "linear=LinearRegression()\n",
    "linear.fit(X_train,y_train)"
   ]
  },
  {
   "cell_type": "code",
   "execution_count": 54,
   "id": "c93a8838-7323-4562-8a11-12cab9b2825f",
   "metadata": {},
   "outputs": [],
   "source": [
    "y_pred=linear.predict(X_test)"
   ]
  },
  {
   "cell_type": "code",
   "execution_count": 55,
   "id": "92736d99-3c65-4ff4-8e36-6f3e32641038",
   "metadata": {
    "scrolled": true,
    "tags": []
   },
   "outputs": [
    {
     "data": {
      "text/plain": [
       "array([[ 91.52935067],\n",
       "       [ 95.65893725],\n",
       "       [111.82938248],\n",
       "       [ 77.62496051],\n",
       "       [113.16295506],\n",
       "       [ 97.00130388],\n",
       "       [ 94.4700231 ],\n",
       "       [107.20217709],\n",
       "       [105.55764053],\n",
       "       [110.65302233],\n",
       "       [ 78.00133995],\n",
       "       [ 95.46370187],\n",
       "       [ 96.79230891],\n",
       "       [105.06434577],\n",
       "       [ 94.90283716],\n",
       "       [ 94.56131027],\n",
       "       [111.82150838],\n",
       "       [ 91.70517104],\n",
       "       [ 95.13560816],\n",
       "       [115.20803069],\n",
       "       [114.27063426],\n",
       "       [ 95.26848838],\n",
       "       [ 96.60766736],\n",
       "       [102.87671499],\n",
       "       [ 90.87576807],\n",
       "       [112.63441074],\n",
       "       [ 93.37669134],\n",
       "       [ 76.98220608],\n",
       "       [ 94.36920986],\n",
       "       [ 90.70735127],\n",
       "       [ 92.49501583],\n",
       "       [105.97904355],\n",
       "       [ 96.23104765],\n",
       "       [110.71400958],\n",
       "       [ 95.77113798],\n",
       "       [113.03133777],\n",
       "       [110.91229986],\n",
       "       [ 95.43441262],\n",
       "       [ 95.37538763],\n",
       "       [ 93.32698569],\n",
       "       [112.93052293],\n",
       "       [110.26311267],\n",
       "       [ 94.09040312],\n",
       "       [112.20355776],\n",
       "       [ 97.18561753],\n",
       "       [ 96.62752327],\n",
       "       [ 92.21976045],\n",
       "       [103.85191481],\n",
       "       [111.00235021],\n",
       "       [104.45723184],\n",
       "       [ 93.19124918],\n",
       "       [103.95776741],\n",
       "       [102.57642494],\n",
       "       [107.98966512],\n",
       "       [ 91.68557818],\n",
       "       [ 94.72232537],\n",
       "       [ 94.09479722],\n",
       "       [114.36345271],\n",
       "       [ 96.29699413],\n",
       "       [ 92.91404577],\n",
       "       [112.72097423],\n",
       "       [ 79.04164875],\n",
       "       [ 96.60440015],\n",
       "       [ 93.34711905],\n",
       "       [ 76.63781577],\n",
       "       [ 94.75241153],\n",
       "       [ 92.7497159 ],\n",
       "       [107.9245765 ],\n",
       "       [104.45723184],\n",
       "       [ 95.16159523],\n",
       "       [ 93.6173022 ],\n",
       "       [ 91.54147373],\n",
       "       [ 94.01231909],\n",
       "       [111.42469146],\n",
       "       [ 92.58329069],\n",
       "       [110.28442699],\n",
       "       [ 97.09106603],\n",
       "       [109.8164914 ],\n",
       "       [ 96.19833553],\n",
       "       [ 98.04394685],\n",
       "       [111.60604582],\n",
       "       [118.58750469],\n",
       "       [110.50995885],\n",
       "       [110.89776361],\n",
       "       [113.3166807 ],\n",
       "       [ 94.88170177],\n",
       "       [104.13379606],\n",
       "       [110.04399169],\n",
       "       [ 89.61791898],\n",
       "       [ 84.67200271],\n",
       "       [ 91.92245138],\n",
       "       [103.73630943],\n",
       "       [ 97.77162374],\n",
       "       [103.30059419],\n",
       "       [111.42329923],\n",
       "       [ 94.23731622],\n",
       "       [112.19445716],\n",
       "       [112.10077993],\n",
       "       [ 94.62808783],\n",
       "       [ 90.74213874],\n",
       "       [ 77.15315993],\n",
       "       [104.22918983],\n",
       "       [ 95.09827702],\n",
       "       [ 89.82214518],\n",
       "       [ 97.36587137],\n",
       "       [113.5168319 ],\n",
       "       [ 95.62963042],\n",
       "       [ 95.8814538 ],\n",
       "       [112.59478418],\n",
       "       [ 89.74978048],\n",
       "       [104.22918983],\n",
       "       [ 89.76424941],\n",
       "       [105.43392265],\n",
       "       [ 97.93400142],\n",
       "       [106.49531234],\n",
       "       [ 77.80823536],\n",
       "       [107.64412682],\n",
       "       [ 93.90346608],\n",
       "       [ 93.06985166],\n",
       "       [113.82595738],\n",
       "       [100.40612293],\n",
       "       [104.1528373 ],\n",
       "       [ 91.00313535],\n",
       "       [112.82519207],\n",
       "       [ 95.60755428],\n",
       "       [ 94.47114109],\n",
       "       [ 93.7616255 ],\n",
       "       [109.96113039],\n",
       "       [ 91.65778966],\n",
       "       [103.99178781],\n",
       "       [101.90633606],\n",
       "       [ 95.44222485],\n",
       "       [ 76.3722465 ],\n",
       "       [ 94.7398803 ],\n",
       "       [111.38645485],\n",
       "       [102.65541479],\n",
       "       [111.14750169],\n",
       "       [ 94.85918329],\n",
       "       [111.54148217],\n",
       "       [ 91.94836303],\n",
       "       [ 78.10146846],\n",
       "       [113.71899114],\n",
       "       [102.36195995],\n",
       "       [113.86149794],\n",
       "       [ 92.94645156],\n",
       "       [ 88.92794725],\n",
       "       [111.80868938],\n",
       "       [109.85134958],\n",
       "       [113.99777451],\n",
       "       [ 94.19571569],\n",
       "       [110.67267153],\n",
       "       [ 94.20245101],\n",
       "       [ 96.84361609],\n",
       "       [111.05073814],\n",
       "       [118.22194066],\n",
       "       [ 84.71761113],\n",
       "       [ 96.99384167],\n",
       "       [106.92565005],\n",
       "       [105.29571207],\n",
       "       [114.10273917],\n",
       "       [ 96.24725052],\n",
       "       [ 90.18486885],\n",
       "       [ 91.56500739],\n",
       "       [ 90.96371868],\n",
       "       [101.21279233],\n",
       "       [ 94.71559436],\n",
       "       [ 91.22653668],\n",
       "       [110.49700196],\n",
       "       [118.57288259],\n",
       "       [104.59269407],\n",
       "       [ 76.83950939],\n",
       "       [121.01741833],\n",
       "       [ 95.26354025],\n",
       "       [ 95.22256651],\n",
       "       [ 96.27448705],\n",
       "       [113.01262662],\n",
       "       [ 90.96547707],\n",
       "       [ 92.22371486],\n",
       "       [ 94.76349029],\n",
       "       [111.93036492],\n",
       "       [104.80342897],\n",
       "       [106.94955971],\n",
       "       [114.53680574],\n",
       "       [ 97.40310552],\n",
       "       [112.45738723],\n",
       "       [ 95.0641402 ],\n",
       "       [105.34973914],\n",
       "       [103.07078613],\n",
       "       [ 98.60043637],\n",
       "       [117.45856637],\n",
       "       [108.95898925],\n",
       "       [115.5197539 ],\n",
       "       [ 91.47089205],\n",
       "       [111.40990513],\n",
       "       [ 91.7876822 ],\n",
       "       [ 92.94929879],\n",
       "       [104.44979287],\n",
       "       [ 89.85877976],\n",
       "       [110.00322563],\n",
       "       [112.53979869],\n",
       "       [ 95.02942039],\n",
       "       [110.06637833],\n",
       "       [104.58629855],\n",
       "       [ 93.54934463],\n",
       "       [ 90.9241111 ],\n",
       "       [112.80318724],\n",
       "       [106.40348252],\n",
       "       [102.08677144],\n",
       "       [ 96.6273181 ],\n",
       "       [ 96.48983107],\n",
       "       [ 97.76119984],\n",
       "       [ 89.82214518],\n",
       "       [ 94.79059523],\n",
       "       [ 92.01250394],\n",
       "       [ 94.63377077],\n",
       "       [ 93.22307157],\n",
       "       [ 94.99855682],\n",
       "       [ 96.42235366],\n",
       "       [113.59242882],\n",
       "       [104.95998504],\n",
       "       [108.97056686],\n",
       "       [ 95.87915928],\n",
       "       [101.12891526],\n",
       "       [ 98.22363451],\n",
       "       [110.13973745],\n",
       "       [ 94.54868759],\n",
       "       [ 94.18904801],\n",
       "       [112.53299229],\n",
       "       [112.27417952],\n",
       "       [ 98.11012612],\n",
       "       [ 97.42781714],\n",
       "       [ 95.48125025],\n",
       "       [ 98.50682291],\n",
       "       [ 95.95375863],\n",
       "       [110.3043373 ],\n",
       "       [ 96.50703454],\n",
       "       [ 93.51799954],\n",
       "       [107.99217247],\n",
       "       [ 96.60201074],\n",
       "       [ 91.51782737],\n",
       "       [ 79.10966392],\n",
       "       [106.14395927],\n",
       "       [112.6530819 ],\n",
       "       [106.20622187],\n",
       "       [ 93.23260616],\n",
       "       [ 96.82296479],\n",
       "       [ 94.92745578],\n",
       "       [107.89367367],\n",
       "       [ 95.94642403],\n",
       "       [ 98.9379613 ],\n",
       "       [101.2415254 ],\n",
       "       [113.20773118],\n",
       "       [ 93.43268007],\n",
       "       [ 96.16597195],\n",
       "       [104.5656233 ],\n",
       "       [ 93.96959234],\n",
       "       [ 95.55625409],\n",
       "       [111.15980686],\n",
       "       [116.01896431],\n",
       "       [105.2777513 ],\n",
       "       [ 90.13548973],\n",
       "       [107.18664647],\n",
       "       [108.14949508],\n",
       "       [ 96.98109736],\n",
       "       [104.37142165],\n",
       "       [108.9867886 ],\n",
       "       [ 91.67301286],\n",
       "       [ 88.21946317],\n",
       "       [114.39885667],\n",
       "       [ 94.47445473],\n",
       "       [114.54186876],\n",
       "       [ 98.41267349],\n",
       "       [109.67282746],\n",
       "       [107.17745985],\n",
       "       [112.49464075],\n",
       "       [106.61504707],\n",
       "       [111.1219057 ],\n",
       "       [ 93.57384068],\n",
       "       [ 98.05437566],\n",
       "       [ 93.80292465],\n",
       "       [105.17123895],\n",
       "       [ 92.75220212],\n",
       "       [112.99638493],\n",
       "       [ 90.34017308],\n",
       "       [ 77.88942662],\n",
       "       [ 93.22630871],\n",
       "       [ 93.76814187],\n",
       "       [112.25746205],\n",
       "       [ 95.52988829],\n",
       "       [113.56311373],\n",
       "       [ 92.31680608],\n",
       "       [101.68297801],\n",
       "       [ 94.48934443],\n",
       "       [110.78849961],\n",
       "       [ 96.99256829],\n",
       "       [112.42935839],\n",
       "       [ 79.94706238],\n",
       "       [ 93.09108532],\n",
       "       [109.9694067 ],\n",
       "       [110.76647358],\n",
       "       [113.28752939],\n",
       "       [104.11200786],\n",
       "       [ 96.6273181 ],\n",
       "       [ 90.88063855],\n",
       "       [112.98876599],\n",
       "       [ 95.03974298],\n",
       "       [111.03828551],\n",
       "       [105.23957512],\n",
       "       [ 94.51687635],\n",
       "       [ 93.70513015],\n",
       "       [ 94.75263699],\n",
       "       [ 90.77353055],\n",
       "       [ 95.94457995],\n",
       "       [107.75975946],\n",
       "       [102.43002059],\n",
       "       [ 96.37782531],\n",
       "       [ 89.86979465],\n",
       "       [103.99738317],\n",
       "       [ 96.32144695],\n",
       "       [ 98.22671991],\n",
       "       [115.95278503],\n",
       "       [ 92.35347167],\n",
       "       [113.09189941],\n",
       "       [ 93.28925085],\n",
       "       [ 80.63655642],\n",
       "       [110.50995885],\n",
       "       [ 94.24239186],\n",
       "       [110.05786726],\n",
       "       [116.60008919],\n",
       "       [112.81424749],\n",
       "       [118.59784282],\n",
       "       [ 94.01293665],\n",
       "       [111.03806761],\n",
       "       [ 87.10400236],\n",
       "       [ 94.3070418 ],\n",
       "       [ 90.90384886],\n",
       "       [105.46238664],\n",
       "       [114.47703536],\n",
       "       [102.00113403],\n",
       "       [ 94.44351824],\n",
       "       [111.30475688],\n",
       "       [105.15875846],\n",
       "       [ 95.19309646],\n",
       "       [ 92.65061412],\n",
       "       [111.93054513],\n",
       "       [111.03828551],\n",
       "       [112.08030571],\n",
       "       [ 94.34133743],\n",
       "       [104.46020234],\n",
       "       [110.91496827],\n",
       "       [ 95.52178736],\n",
       "       [107.19885061],\n",
       "       [ 79.20909273],\n",
       "       [110.08714216],\n",
       "       [ 93.51511419],\n",
       "       [113.4010652 ],\n",
       "       [ 95.67059903],\n",
       "       [ 95.2834677 ],\n",
       "       [113.43974497],\n",
       "       [ 93.44146839],\n",
       "       [ 96.2937991 ],\n",
       "       [112.72626153],\n",
       "       [102.6699267 ],\n",
       "       [ 96.41033677],\n",
       "       [ 97.02215208],\n",
       "       [ 93.06120577],\n",
       "       [104.77361965],\n",
       "       [ 93.00431102],\n",
       "       [ 88.96453041],\n",
       "       [110.56339258],\n",
       "       [ 89.259005  ],\n",
       "       [103.9019549 ],\n",
       "       [104.7939262 ],\n",
       "       [ 89.14985947],\n",
       "       [112.59390297],\n",
       "       [118.15941462],\n",
       "       [ 94.63439357],\n",
       "       [ 96.67937719],\n",
       "       [ 89.9149348 ],\n",
       "       [ 92.67112681],\n",
       "       [103.92716996],\n",
       "       [ 96.98048599],\n",
       "       [ 95.01188512],\n",
       "       [114.46741821],\n",
       "       [122.29676808],\n",
       "       [ 93.94020158],\n",
       "       [ 93.40104713],\n",
       "       [110.71257732],\n",
       "       [109.6720482 ],\n",
       "       [105.23095802],\n",
       "       [113.78096824],\n",
       "       [117.74166269],\n",
       "       [103.35198552],\n",
       "       [111.99660866],\n",
       "       [ 93.34571417],\n",
       "       [ 94.36829262],\n",
       "       [102.53889479],\n",
       "       [103.12965816],\n",
       "       [ 91.10057763],\n",
       "       [ 96.34988372],\n",
       "       [ 77.98265566],\n",
       "       [111.35899812],\n",
       "       [114.2020557 ],\n",
       "       [109.03588576],\n",
       "       [ 91.88950257],\n",
       "       [110.27002491],\n",
       "       [114.46306001],\n",
       "       [112.57031587],\n",
       "       [ 78.83726302],\n",
       "       [113.75754434],\n",
       "       [ 93.76335988],\n",
       "       [ 94.7598481 ],\n",
       "       [ 97.27369061],\n",
       "       [108.38219767],\n",
       "       [102.4610338 ],\n",
       "       [114.24208552],\n",
       "       [111.03828551],\n",
       "       [ 93.78306154],\n",
       "       [114.56569303],\n",
       "       [105.10757042],\n",
       "       [103.67728258]])"
      ]
     },
     "execution_count": 55,
     "metadata": {},
     "output_type": "execute_result"
    }
   ],
   "source": [
    "y_pred"
   ]
  },
  {
   "cell_type": "code",
   "execution_count": 56,
   "id": "7bc808bc-da49-4bb7-b56d-2e26c93b4a72",
   "metadata": {},
   "outputs": [
    {
     "data": {
      "text/plain": [
       "0.6164813107147473"
      ]
     },
     "execution_count": 56,
     "metadata": {},
     "output_type": "execute_result"
    }
   ],
   "source": [
    "r2_score(y_test,y_pred)"
   ]
  },
  {
   "cell_type": "code",
   "execution_count": 57,
   "id": "de38c15a-9733-4c20-9ea6-8681fbc11da6",
   "metadata": {},
   "outputs": [
    {
     "data": {
      "text/plain": [
       "({'alpha': 100}, 0.5805614264746317)"
      ]
     },
     "execution_count": 57,
     "metadata": {},
     "output_type": "execute_result"
    }
   ],
   "source": [
    "from sklearn.linear_model import Ridge\n",
    "from sklearn.model_selection import GridSearchCV\n",
    "\n",
    "ridge=Ridge()\n",
    "parameters={'alpha':[1e-15,1e-10,1e-8,1e-3,1e-2,1,5,10,20,30,35,40,45,50,55,100]}\n",
    "ridge_regressor=GridSearchCV(ridge,parameters,scoring='r2',cv=5)\n",
    "ridge_regressor.fit(X_train,y_train)\n",
    "ridge_regressor.best_params_,ridge_regressor.best_score_"
   ]
  },
  {
   "cell_type": "code",
   "execution_count": 58,
   "id": "970cbbda-16ab-4020-9b88-d0fd52183111",
   "metadata": {},
   "outputs": [
    {
     "data": {
      "text/plain": [
       "({'alpha': 0.01}, 0.5789925943641506)"
      ]
     },
     "execution_count": 58,
     "metadata": {},
     "output_type": "execute_result"
    }
   ],
   "source": [
    "from sklearn.linear_model import Lasso\n",
    "from sklearn.model_selection import GridSearchCV,RandomizedSearchCV\n",
    "\n",
    "lasso=Lasso()\n",
    "parameters={'alpha':[1e-15,1e-10,1e-8,1e-3,1e-2,1,5,10,20,30,35,40,45,50,55,100]}\n",
    "lasso_regressor=GridSearchCV(lasso,parameters,scoring='r2',cv=5)\n",
    "lasso_regressor.fit(X_train,y_train)\n",
    "lasso_regressor.best_params_,lasso_regressor.best_score_"
   ]
  },
  {
   "cell_type": "code",
   "execution_count": 59,
   "id": "7887d0ec-7268-4e89-aed0-0bf5dcc95e88",
   "metadata": {},
   "outputs": [],
   "source": [
    "prediction_lasso=lasso_regressor.predict(X_test)\n",
    "prediction_ridge=ridge_regressor.predict(X_test)"
   ]
  },
  {
   "cell_type": "code",
   "execution_count": 60,
   "id": "c3753cbf-ef00-4c48-98ba-7e046eaa7d04",
   "metadata": {},
   "outputs": [
    {
     "data": {
      "text/plain": [
       "(0.6243296715671847, 0.6209924627275829)"
      ]
     },
     "execution_count": 60,
     "metadata": {},
     "output_type": "execute_result"
    }
   ],
   "source": [
    "r2_score(y_test,prediction_ridge),r2_score(y_test,prediction_lasso)"
   ]
  },
  {
   "cell_type": "markdown",
   "id": "9ef555e7-83f2-4951-b16a-1d3a3ffc6cc3",
   "metadata": {},
   "source": [
    "## XGBOOST"
   ]
  },
  {
   "cell_type": "code",
   "execution_count": 61,
   "id": "4446615e-b8a5-4872-ba92-51e48a077875",
   "metadata": {},
   "outputs": [],
   "source": [
    "from sklearn.tree import DecisionTreeRegressor\n",
    "import xgboost\n",
    "decision=DecisionTreeRegressor()\n",
    "boost=xgboost.XGBRegressor()"
   ]
  },
  {
   "cell_type": "code",
   "execution_count": 62,
   "id": "5be15254-d890-4683-94f1-93674af16a2b",
   "metadata": {},
   "outputs": [],
   "source": [
    "params={\n",
    " \"learning_rate\"    : [0.05, 0.10, 0.15, 0.20, 0.25, 0.30 ] ,\n",
    " \"max_depth\"        : [ 3, 4, 5, 6, 8, 10, 12, 15],\n",
    " \"min_child_weight\" : [ 1, 3, 5, 7 ],\n",
    " \"gamma\"            : [ 0.0, 0.1, 0.2 , 0.3, 0.4 ],\n",
    " \"colsample_bytree\" : [ 0.3, 0.4, 0.5 , 0.7 ], \n",
    "}"
   ]
  },
  {
   "cell_type": "code",
   "execution_count": 63,
   "id": "1b66d63b-92ae-4e30-bb23-3241b4fd28d7",
   "metadata": {},
   "outputs": [],
   "source": [
    "decision_test=RandomizedSearchCV(boost,param_distributions=params,n_iter=10,\\\n",
    "                                 scoring='r2',n_jobs=-1,cv=5,verbose=5,)"
   ]
  },
  {
   "cell_type": "code",
   "execution_count": 64,
   "id": "1f4de3a8-e7eb-4180-a8a1-4ceff03d7fdb",
   "metadata": {},
   "outputs": [
    {
     "data": {
      "text/plain": [
       "dict_keys(['cv', 'error_score', 'estimator__objective', 'estimator__base_score', 'estimator__booster', 'estimator__colsample_bylevel', 'estimator__colsample_bynode', 'estimator__colsample_bytree', 'estimator__enable_categorical', 'estimator__gamma', 'estimator__gpu_id', 'estimator__importance_type', 'estimator__interaction_constraints', 'estimator__learning_rate', 'estimator__max_delta_step', 'estimator__max_depth', 'estimator__min_child_weight', 'estimator__missing', 'estimator__monotone_constraints', 'estimator__n_estimators', 'estimator__n_jobs', 'estimator__num_parallel_tree', 'estimator__predictor', 'estimator__random_state', 'estimator__reg_alpha', 'estimator__reg_lambda', 'estimator__scale_pos_weight', 'estimator__subsample', 'estimator__tree_method', 'estimator__validate_parameters', 'estimator__verbosity', 'estimator', 'n_iter', 'n_jobs', 'param_distributions', 'pre_dispatch', 'random_state', 'refit', 'return_train_score', 'scoring', 'verbose'])"
      ]
     },
     "execution_count": 64,
     "metadata": {},
     "output_type": "execute_result"
    }
   ],
   "source": [
    "decision_test.get_params().keys()"
   ]
  },
  {
   "cell_type": "code",
   "execution_count": 65,
   "id": "9ac4eb7c-bedc-4d13-8bae-33ec506e4989",
   "metadata": {},
   "outputs": [
    {
     "name": "stdout",
     "output_type": "stream",
     "text": [
      "Fitting 5 folds for each of 10 candidates, totalling 50 fits\n"
     ]
    },
    {
     "data": {
      "text/plain": [
       "RandomizedSearchCV(cv=5,\n",
       "                   estimator=XGBRegressor(base_score=None, booster=None,\n",
       "                                          colsample_bylevel=None,\n",
       "                                          colsample_bynode=None,\n",
       "                                          colsample_bytree=None,\n",
       "                                          enable_categorical=False, gamma=None,\n",
       "                                          gpu_id=None, importance_type=None,\n",
       "                                          interaction_constraints=None,\n",
       "                                          learning_rate=None,\n",
       "                                          max_delta_step=None, max_depth=None,\n",
       "                                          min_child_weight=None, missing=nan,\n",
       "                                          monotone_constraints=...\n",
       "                                          reg_alpha=None, reg_lambda=None,\n",
       "                                          scale_pos_weight=None, subsample=None,\n",
       "                                          tree_method=None,\n",
       "                                          validate_parameters=None,\n",
       "                                          verbosity=None),\n",
       "                   n_jobs=-1,\n",
       "                   param_distributions={'colsample_bytree': [0.3, 0.4, 0.5,\n",
       "                                                             0.7],\n",
       "                                        'gamma': [0.0, 0.1, 0.2, 0.3, 0.4],\n",
       "                                        'learning_rate': [0.05, 0.1, 0.15, 0.2,\n",
       "                                                          0.25, 0.3],\n",
       "                                        'max_depth': [3, 4, 5, 6, 8, 10, 12,\n",
       "                                                      15],\n",
       "                                        'min_child_weight': [1, 3, 5, 7]},\n",
       "                   scoring='r2', verbose=5)"
      ]
     },
     "execution_count": 65,
     "metadata": {},
     "output_type": "execute_result"
    }
   ],
   "source": [
    "decision_test.fit(X_train,y_train)"
   ]
  },
  {
   "cell_type": "code",
   "execution_count": 66,
   "id": "e30918a1-7f44-4edf-8110-91f61e941b56",
   "metadata": {},
   "outputs": [
    {
     "data": {
      "text/plain": [
       "XGBRegressor(base_score=0.5, booster='gbtree', colsample_bylevel=1,\n",
       "             colsample_bynode=1, colsample_bytree=0.7, enable_categorical=False,\n",
       "             gamma=0.0, gpu_id=-1, importance_type=None,\n",
       "             interaction_constraints='', learning_rate=0.1, max_delta_step=0,\n",
       "             max_depth=5, min_child_weight=1, missing=nan,\n",
       "             monotone_constraints='()', n_estimators=100, n_jobs=4,\n",
       "             num_parallel_tree=1, predictor='auto', random_state=0, reg_alpha=0,\n",
       "             reg_lambda=1, scale_pos_weight=1, subsample=1, tree_method='exact',\n",
       "             validate_parameters=1, verbosity=None)"
      ]
     },
     "execution_count": 66,
     "metadata": {},
     "output_type": "execute_result"
    }
   ],
   "source": [
    "decision_test.best_estimator_"
   ]
  },
  {
   "cell_type": "code",
   "execution_count": 67,
   "id": "00204b06-4285-49cb-9297-c8c606454d5e",
   "metadata": {},
   "outputs": [
    {
     "data": {
      "text/plain": [
       "{'min_child_weight': 1,\n",
       " 'max_depth': 5,\n",
       " 'learning_rate': 0.1,\n",
       " 'gamma': 0.0,\n",
       " 'colsample_bytree': 0.7}"
      ]
     },
     "execution_count": 67,
     "metadata": {},
     "output_type": "execute_result"
    }
   ],
   "source": [
    "decision_test.best_params_"
   ]
  },
  {
   "cell_type": "code",
   "execution_count": 68,
   "id": "9e486c7a-5d8a-4d3c-995d-f775a22ae998",
   "metadata": {},
   "outputs": [],
   "source": [
    "regressor=xgboost.XGBRegressor(base_score=0.5, booster='gbtree', colsample_bylevel=1,\n",
    "             colsample_bynode=1, colsample_bytree=0.7, enable_categorical=False,\n",
    "             gamma=0.0, gpu_id=-1, importance_type=None,\n",
    "             interaction_constraints='', learning_rate=0.1, max_delta_step=0,\n",
    "             max_depth=5, min_child_weight=1, missing=np.nan,\n",
    "             monotone_constraints='()', n_estimators=100, n_jobs=4,\n",
    "             num_parallel_tree=1, predictor='auto', random_state=0, reg_alpha=0,\n",
    "             reg_lambda=1, scale_pos_weight=1, subsample=1, tree_method='exact',\n",
    "             validate_parameters=1, verbosity=None)"
   ]
  },
  {
   "cell_type": "code",
   "execution_count": 69,
   "id": "62e7c4ce-d238-4a6c-a4d1-08c405f5560c",
   "metadata": {},
   "outputs": [],
   "source": [
    "xgboost_score=cross_val_score(regressor,X_train,y_train,cv=10)"
   ]
  },
  {
   "cell_type": "code",
   "execution_count": 70,
   "id": "332683ab-fcb9-4f36-9543-00a8c4548f6d",
   "metadata": {},
   "outputs": [
    {
     "data": {
      "text/plain": [
       "array([0.52512517, 0.47690407, 0.51849804, 0.53834143, 0.59661955,\n",
       "       0.59210296, 0.58100096, 0.6258243 , 0.55363943, 0.54145517])"
      ]
     },
     "execution_count": 70,
     "metadata": {},
     "output_type": "execute_result"
    }
   ],
   "source": [
    "xgboost_score"
   ]
  },
  {
   "cell_type": "code",
   "execution_count": 71,
   "id": "f000853b-469a-4121-9062-ea7b384f93d8",
   "metadata": {},
   "outputs": [
    {
     "data": {
      "text/plain": [
       "0.5549511064141774"
      ]
     },
     "execution_count": 71,
     "metadata": {},
     "output_type": "execute_result"
    }
   ],
   "source": [
    "xgboost_score.mean()"
   ]
  },
  {
   "cell_type": "code",
   "execution_count": 72,
   "id": "652db6c9-e646-43c6-a7f1-dbf63a1c589e",
   "metadata": {},
   "outputs": [],
   "source": [
    "xgboost_test=regressor.fit(X_train,y_train)"
   ]
  },
  {
   "cell_type": "code",
   "execution_count": 73,
   "id": "95ce7ec2-4963-4640-9e0e-3b6eb64a622a",
   "metadata": {},
   "outputs": [],
   "source": [
    "xgboost_pred=xgboost_test.predict(X_test)"
   ]
  },
  {
   "cell_type": "code",
   "execution_count": 74,
   "id": "783b5e83-3f26-4d39-8a75-19011ef72baa",
   "metadata": {},
   "outputs": [
    {
     "data": {
      "text/plain": [
       "0.5869818802708393"
      ]
     },
     "execution_count": 74,
     "metadata": {},
     "output_type": "execute_result"
    }
   ],
   "source": [
    "r2_score(y_test,xgboost_pred)"
   ]
  },
  {
   "cell_type": "code",
   "execution_count": 70,
   "id": "f3b65fa7-1f59-470b-af6e-8aa8c4972456",
   "metadata": {},
   "outputs": [],
   "source": [
    "param={\n",
    " \"learning_rate\"    : [0.05, 0.10, 0.15, 0.20, 0.25, 0.30 ] ,\n",
    " \"max_depth\"        : [ 3, 4, 5, 6, 8, 10, 12, 15],\n",
    " \"min_child_weight\" : [ 1, 3, 5, 7 ],\n",
    " \"gamma\"            : [ 0.0, 0.1, 0.2 , 0.3, 0.4 ],\n",
    " \"colsample_bytree\" : [ 0.3, 0.4, 0.5 , 0.7 ], \n",
    "}"
   ]
  },
  {
   "cell_type": "code",
   "execution_count": 76,
   "id": "ab6edb03-d877-4eee-9735-d3e40af78aae",
   "metadata": {},
   "outputs": [
    {
     "data": {
      "text/plain": [
       "{'ccp_alpha': 0.0,\n",
       " 'criterion': 'squared_error',\n",
       " 'max_depth': None,\n",
       " 'max_features': None,\n",
       " 'max_leaf_nodes': None,\n",
       " 'min_impurity_decrease': 0.0,\n",
       " 'min_samples_leaf': 1,\n",
       " 'min_samples_split': 2,\n",
       " 'min_weight_fraction_leaf': 0.0,\n",
       " 'random_state': None,\n",
       " 'splitter': 'best'}"
      ]
     },
     "execution_count": 76,
     "metadata": {},
     "output_type": "execute_result"
    }
   ],
   "source": [
    "decision.get_params()"
   ]
  },
  {
   "cell_type": "code",
   "execution_count": 81,
   "id": "4273f8ab-e4d2-41b9-bf30-fe8b4b07a483",
   "metadata": {},
   "outputs": [],
   "source": [
    "decision_tree=cross_val_score(decision,X_train,y_train,cv=10,scoring='neg_mean_squared_error')"
   ]
  },
  {
   "cell_type": "code",
   "execution_count": 82,
   "id": "93615ecf-a56f-4b35-9218-4a6bb20603c8",
   "metadata": {},
   "outputs": [
    {
     "data": {
      "text/plain": [
       "array([-146.26136925, -179.16963811, -151.59664568, -157.95776823,\n",
       "       -114.20815989, -166.31222446, -149.78085517,  -97.91817451,\n",
       "       -164.55155368, -161.40465741])"
      ]
     },
     "execution_count": 82,
     "metadata": {},
     "output_type": "execute_result"
    }
   ],
   "source": [
    "decision_tree"
   ]
  },
  {
   "cell_type": "code",
   "execution_count": 84,
   "id": "22987eef-a4b2-4a5c-afa6-c903c0684b19",
   "metadata": {},
   "outputs": [
    {
     "data": {
      "text/plain": [
       "148.9161046400837"
      ]
     },
     "execution_count": 84,
     "metadata": {},
     "output_type": "execute_result"
    }
   ],
   "source": [
    "-decision_tree.mean()"
   ]
  },
  {
   "cell_type": "code",
   "execution_count": 85,
   "id": "4a613f7f-c0a5-40e2-9092-0615936eeff8",
   "metadata": {},
   "outputs": [],
   "source": [
    "from sklearn.ensemble import AdaBoostRegressor,BaggingRegressor,GradientBoostingRegressor,RandomForestRegressor\n",
    "adaboost=AdaBoostRegressor()\n",
    "bagging=BaggingRegressor()\n",
    "gradient=GradientBoostingRegressor()\n",
    "random_=RandomForestRegressor()"
   ]
  },
  {
   "cell_type": "code",
   "execution_count": 86,
   "id": "8aaa14c2-545f-44ad-80cd-c2d85f64e390",
   "metadata": {},
   "outputs": [],
   "source": [
    "adaboost_test=cross_val_score(adaboost,X_train,y_train,cv=10,scoring='r2')\n",
    "bagging_test=cross_val_score(bagging,X_train,y_train,cv=10,scoring='r2')\n",
    "gradient_test=cross_val_score(gradient,X_train,y_train,cv=10,scoring='r2')\n",
    "random_test=cross_val_score(random_,X_train,y_train,cv=10,scoring='r2')"
   ]
  },
  {
   "cell_type": "code",
   "execution_count": 87,
   "id": "d4784c24-e5db-49a7-9c7f-2fae4ed71761",
   "metadata": {},
   "outputs": [
    {
     "data": {
      "text/plain": [
       "(0.14050850080929495,\n",
       " 0.4683021957832708,\n",
       " 0.5575673113679595,\n",
       " 0.5140683737622974)"
      ]
     },
     "execution_count": 87,
     "metadata": {},
     "output_type": "execute_result"
    }
   ],
   "source": [
    "adaboost_test.mean(),bagging_test.mean(),gradient_test.mean(),random_test.mean()"
   ]
  },
  {
   "cell_type": "code",
   "execution_count": 88,
   "id": "318b7938-ab9f-4c8a-b0d8-89fe30660f81",
   "metadata": {},
   "outputs": [],
   "source": [
    "gradient_test=gradient.fit(X_train,y_train)"
   ]
  },
  {
   "cell_type": "code",
   "execution_count": 89,
   "id": "dc023317-0283-4bf4-bf36-50deb0ef74b2",
   "metadata": {},
   "outputs": [],
   "source": [
    "gradient_pred=gradient_test.predict(X_test)"
   ]
  },
  {
   "cell_type": "code",
   "execution_count": 90,
   "id": "c41d4cba-3ae9-4a06-b99e-26e8725af067",
   "metadata": {},
   "outputs": [
    {
     "data": {
      "text/plain": [
       "0.5764677727388234"
      ]
     },
     "execution_count": 90,
     "metadata": {},
     "output_type": "execute_result"
    }
   ],
   "source": [
    "r2_score(y_test,gradient_pred)"
   ]
  },
  {
   "cell_type": "markdown",
   "id": "e827d722-7aa9-4c34-94fd-7d6971b7cfbb",
   "metadata": {},
   "source": [
    "## SVM"
   ]
  },
  {
   "cell_type": "code",
   "execution_count": 82,
   "id": "7f9dbec8-485d-4ae6-a148-e6c7d1fdb160",
   "metadata": {},
   "outputs": [],
   "source": [
    "from sklearn import svm"
   ]
  },
  {
   "cell_type": "code",
   "execution_count": 83,
   "id": "64d79b95-9cf2-40f8-8cf1-3692fb05ed91",
   "metadata": {},
   "outputs": [],
   "source": [
    "svm_reg=svm.SVR(kernel='rbf',C=1)"
   ]
  },
  {
   "cell_type": "code",
   "execution_count": 84,
   "id": "3a183552-a737-4160-b309-4bd86c381347",
   "metadata": {},
   "outputs": [],
   "source": [
    "svm_test= svm_reg.fit(X_train, y_train)"
   ]
  },
  {
   "cell_type": "code",
   "execution_count": 85,
   "id": "2591a65b-b89c-4d98-a91f-2d5c5cccf8c5",
   "metadata": {},
   "outputs": [
    {
     "data": {
      "text/plain": [
       "0.5731968874719332"
      ]
     },
     "execution_count": 85,
     "metadata": {},
     "output_type": "execute_result"
    }
   ],
   "source": [
    "svm_test.score(X_test,y_test)"
   ]
  },
  {
   "cell_type": "code",
   "execution_count": 86,
   "id": "b560d127-1d80-4aee-993b-13944a8d80a5",
   "metadata": {},
   "outputs": [],
   "source": [
    "svm_scores=cross_val_score(svm_reg,X_train,y_train,cv=10)"
   ]
  },
  {
   "cell_type": "code",
   "execution_count": 87,
   "id": "88136d53-013b-4a7b-8b3f-6c260bb8fe33",
   "metadata": {},
   "outputs": [
    {
     "data": {
      "text/plain": [
       "0.5476356819248274"
      ]
     },
     "execution_count": 87,
     "metadata": {},
     "output_type": "execute_result"
    }
   ],
   "source": [
    "svm_scores.mean()"
   ]
  },
  {
   "cell_type": "markdown",
   "id": "fd23c730-3c07-4205-82bc-c42e86c0895e",
   "metadata": {},
   "source": [
    "## KNN"
   ]
  },
  {
   "cell_type": "code",
   "execution_count": 88,
   "id": "743b66b8-a12b-4fea-ba56-6f5dd466eed9",
   "metadata": {},
   "outputs": [],
   "source": [
    "from sklearn.neighbors import KNeighborsRegressor\n",
    "knn=KNeighborsRegressor(n_neighbors=10)"
   ]
  },
  {
   "cell_type": "code",
   "execution_count": 89,
   "id": "a298f77b-ff26-478a-beb0-d93f1cb88825",
   "metadata": {},
   "outputs": [],
   "source": [
    "knn_test=knn.fit(X_train,y_train)"
   ]
  },
  {
   "cell_type": "code",
   "execution_count": 90,
   "id": "5497f359-08ef-4cb6-8920-6a377604b97f",
   "metadata": {},
   "outputs": [
    {
     "data": {
      "text/plain": [
       "0.6105804017978285"
      ]
     },
     "execution_count": 90,
     "metadata": {},
     "output_type": "execute_result"
    }
   ],
   "source": [
    "knn_test.score(X_train,y_train)"
   ]
  },
  {
   "cell_type": "code",
   "execution_count": 91,
   "id": "2380d4a9-0793-461c-a0fd-9102e0381c6c",
   "metadata": {},
   "outputs": [],
   "source": [
    "knn_pred=knn_test.predict(X_test)"
   ]
  },
  {
   "cell_type": "code",
   "execution_count": 92,
   "id": "a66dd977-5770-413c-b15b-ee076ab02ee0",
   "metadata": {},
   "outputs": [
    {
     "data": {
      "text/plain": [
       "0.5447461950182801"
      ]
     },
     "execution_count": 92,
     "metadata": {},
     "output_type": "execute_result"
    }
   ],
   "source": [
    "r2_score(y_test,knn_pred)"
   ]
  },
  {
   "cell_type": "code",
   "execution_count": null,
   "id": "6505e100-2f43-4fd1-a3c2-8ad70fc7938f",
   "metadata": {},
   "outputs": [],
   "source": [
    "# from sklearn.metrics import classification_report,confusion_matrix"
   ]
  },
  {
   "cell_type": "code",
   "execution_count": 93,
   "id": "18964efd-2611-4e76-972c-c2a8fc9ffec0",
   "metadata": {},
   "outputs": [],
   "source": [
    "accuracy_rate=[]\n",
    "\n",
    "for i in range(1,40):\n",
    "    \n",
    "    knn=KNeighborsRegressor(n_neighbors=i)\n",
    "    knn.fit(X_train,y_train)\n",
    "    pred_i=knn.predict(X_test)\n",
    "    score=r2_score(y_test,pred_i)\n",
    "    accuracy_rate.append(score.mean())"
   ]
  },
  {
   "cell_type": "code",
   "execution_count": 94,
   "id": "a981b162-3cfb-4207-9b64-85fd6b73d5e1",
   "metadata": {},
   "outputs": [
    {
     "data": {
      "text/plain": [
       "Text(0, 0.5, 'Accuracy Rate')"
      ]
     },
     "execution_count": 94,
     "metadata": {},
     "output_type": "execute_result"
    },
    {
     "data": {
      "image/png": "[encoded data removed]",
      "text/plain": [
       "<Figure size 720x432 with 1 Axes>"
      ]
     },
     "metadata": {
      "needs_background": "light"
     },
     "output_type": "display_data"
    }
   ],
   "source": [
    "plt.figure(figsize=(10,6))\n",
    "plt.plot(range(1,40),accuracy_rate,color='blue',linestyle='dashed',marker='o',\n",
    "         markerfacecolor='red',markersize=10)\n",
    "plt.title('Accuracy vs K Value')\n",
    "plt.xlabel('K')\n",
    "plt.ylabel('Accuracy Rate')"
   ]
  },
  {
   "cell_type": "code",
   "execution_count": 95,
   "id": "9e75c8b7-a883-4317-9e86-da2e7022ea11",
   "metadata": {},
   "outputs": [],
   "source": [
    "accuracy_rate=[]\n",
    "\n",
    "for i in range(1,40):\n",
    "    knn=KNeighborsRegressor(n_neighbors=i)\n",
    "    score=cross_val_score(knn,X_train,y_train,cv=10)\n",
    "    accuracy_rate.append(score.mean())"
   ]
  },
  {
   "cell_type": "code",
   "execution_count": 96,
   "id": "6bec64b4-28e5-4a5b-8c52-410b7348596a",
   "metadata": {},
   "outputs": [
    {
     "data": {
      "text/plain": [
       "[0.1638196898167446,\n",
       " 0.3704849072622323,\n",
       " 0.4378512704614783,\n",
       " 0.47110752350957397,\n",
       " 0.4922835491124148,\n",
       " 0.5029552217983956,\n",
       " 0.509741176528727,\n",
       " 0.5168806010610101,\n",
       " 0.5215285410609038,\n",
       " 0.5226876784372014,\n",
       " 0.5249807664400674,\n",
       " 0.5263606307939206,\n",
       " 0.5242677939025888,\n",
       " 0.5263992073595113,\n",
       " 0.5278905660972376,\n",
       " 0.5260948304159174,\n",
       " 0.5264034485888096,\n",
       " 0.5263029086499905,\n",
       " 0.5267594025093134,\n",
       " 0.5274724493105192,\n",
       " 0.527711174392653,\n",
       " 0.5274062399513125,\n",
       " 0.5261014156189093,\n",
       " 0.5265984144131167,\n",
       " 0.5259895409862443,\n",
       " 0.526063820561576,\n",
       " 0.5254330098521054,\n",
       " 0.524683320278504,\n",
       " 0.524387540043078,\n",
       " 0.5246967461790938,\n",
       " 0.5233290207541021,\n",
       " 0.5234908577995927,\n",
       " 0.5230544488325659,\n",
       " 0.5222026591556297,\n",
       " 0.5207661328149259,\n",
       " 0.5199692471060426,\n",
       " 0.5186299464874051,\n",
       " 0.5173185178275027,\n",
       " 0.5154800966720082]"
      ]
     },
     "execution_count": 96,
     "metadata": {},
     "output_type": "execute_result"
    }
   ],
   "source": [
    "accuracy_rate"
   ]
  },
  {
   "cell_type": "code",
   "execution_count": 97,
   "id": "cecfcf6f-2c5f-42ba-953d-479d460891a9",
   "metadata": {},
   "outputs": [
    {
     "data": {
      "text/plain": [
       "Text(0, 0.5, 'Accuracy Rate')"
      ]
     },
     "execution_count": 97,
     "metadata": {},
     "output_type": "execute_result"
    },
    {
     "data": {
      "image/png": "[encoded data removed]",
      "text/plain": [
       "<Figure size 720x432 with 1 Axes>"
      ]
     },
     "metadata": {
      "needs_background": "light"
     },
     "output_type": "display_data"
    }
   ],
   "source": [
    "plt.figure(figsize=(10,6))\n",
    "plt.plot(range(1,40),accuracy_rate,color='blue',linestyle='dashed',marker='o',\n",
    "         markerfacecolor='red',markersize=10)\n",
    "plt.title('Accuracy vs K Value')\n",
    "plt.xlabel('K')\n",
    "plt.ylabel('Accuracy Rate')"
   ]
  },
  {
   "cell_type": "code",
   "execution_count": null,
   "id": "dcfcf0f0-7fe8-4666-85dc-8840ff286e6b",
   "metadata": {},
   "outputs": [],
   "source": [
    "knn_final=pd.DataFrame(knn_pred,columns=['y'],)"
   ]
  },
  {
   "cell_type": "code",
   "execution_count": null,
   "id": "25ff846a-fbc0-4fa1-bdca-eafd4e7aaab0",
   "metadata": {},
   "outputs": [],
   "source": [
    "r2_score(y_test,knn_final)"
   ]
  },
  {
   "cell_type": "code",
   "execution_count": null,
   "id": "46109de3-21fc-4afa-908e-5f6ff27413b5",
   "metadata": {},
   "outputs": [],
   "source": [
    "final_df=pd.DataFrame()\n",
    "final_df['ID']=X_test['ID']\n",
    "final_df['y']=knn_final['y']"
   ]
  },
  {
   "cell_type": "code",
   "execution_count": null,
   "id": "25a936d2-4422-4dd2-9d9a-bdc08fbca88d",
   "metadata": {},
   "outputs": [],
   "source": [
    "X_test"
   ]
  },
  {
   "cell_type": "code",
   "execution_count": null,
   "id": "18d893cf-6335-48fe-ba2f-0cd9d7ae3548",
   "metadata": {},
   "outputs": [],
   "source": [
    "test_final= "
   ]
  },
  {
   "cell_type": "code",
   "execution_count": null,
   "id": "19a3c57b-7d10-48c8-9e1d-a181720b1eb1",
   "metadata": {},
   "outputs": [],
   "source": []
  },
  {
   "cell_type": "code",
   "execution_count": null,
   "id": "a636f0a2-59b3-4ee5-b64c-e7b6bdfbcde3",
   "metadata": {},
   "outputs": [],
   "source": []
  },
  {
   "cell_type": "code",
   "execution_count": null,
   "id": "a8a0b5bc-e943-4206-a229-13f40ad39ed6",
   "metadata": {},
   "outputs": [],
   "source": []
  },
  {
   "cell_type": "code",
   "execution_count": null,
   "id": "4d5d1eae-986e-41ed-be0f-edce2b6fda0a",
   "metadata": {},
   "outputs": [],
   "source": []
  },
  {
   "cell_type": "code",
   "execution_count": null,
   "id": "42187e9b-e59e-4ff3-b50e-b671822db268",
   "metadata": {},
   "outputs": [],
   "source": []
  },
  {
   "cell_type": "code",
   "execution_count": null,
   "id": "f7b7feca-ff98-45a0-a514-f11068c89072",
   "metadata": {},
   "outputs": [],
   "source": []
  },
  {
   "cell_type": "code",
   "execution_count": null,
   "id": "ce11d1a4-76fe-463d-8180-8325d900f401",
   "metadata": {},
   "outputs": [],
   "source": []
  },
  {
   "cell_type": "code",
   "execution_count": null,
   "id": "0ec8e168-79fa-434f-86b5-595d00cbba81",
   "metadata": {},
   "outputs": [],
   "source": []
  },
  {
   "cell_type": "code",
   "execution_count": null,
   "id": "b5401a98-24a4-4e38-b65c-f6dee538bb24",
   "metadata": {},
   "outputs": [],
   "source": []
  },
  {
   "cell_type": "code",
   "execution_count": null,
   "id": "846176a5-6811-43b4-9700-d5f21ba56edb",
   "metadata": {},
   "outputs": [],
   "source": []
  },
  {
   "cell_type": "code",
   "execution_count": null,
   "id": "3a719968-1576-4328-b4e6-1ea4f4ada8d1",
   "metadata": {},
   "outputs": [],
   "source": []
  },
  {
   "cell_type": "code",
   "execution_count": null,
   "id": "8856b888-2945-426d-a0c0-60b38b491669",
   "metadata": {},
   "outputs": [],
   "source": []
  },
  {
   "cell_type": "code",
   "execution_count": null,
   "id": "d9ac38d4-ef79-4509-8ec9-b99eb22781d5",
   "metadata": {},
   "outputs": [],
   "source": []
  },
  {
   "cell_type": "code",
   "execution_count": null,
   "id": "82c96c42-09be-40f5-8ea8-0e1706377568",
   "metadata": {},
   "outputs": [],
   "source": []
  },
  {
   "cell_type": "code",
   "execution_count": null,
   "id": "7adb4fd0-b4f6-4fed-a336-c923323efda9",
   "metadata": {},
   "outputs": [],
   "source": []
  },
  {
   "cell_type": "code",
   "execution_count": null,
   "id": "acdfd6c7-131f-4dad-a6f8-05f5588487b8",
   "metadata": {},
   "outputs": [],
   "source": []
  },
  {
   "cell_type": "code",
   "execution_count": null,
   "id": "42b1244e-1ffc-41f5-a31a-df41450497c9",
   "metadata": {},
   "outputs": [],
   "source": []
  },
  {
   "cell_type": "code",
   "execution_count": null,
   "id": "6ad9f4b1-8a5b-460a-8fcf-baef3366a341",
   "metadata": {},
   "outputs": [],
   "source": []
  },
  {
   "cell_type": "code",
   "execution_count": null,
   "id": "ba39de8f-9c81-438c-9c17-7499e4b2bf72",
   "metadata": {},
   "outputs": [],
   "source": []
  },
  {
   "cell_type": "code",
   "execution_count": null,
   "id": "f63358d3-f874-4f5a-911f-44a5640d4fcf",
   "metadata": {},
   "outputs": [],
   "source": []
  },
  {
   "cell_type": "code",
   "execution_count": null,
   "id": "70db9f7a-14b1-4d6f-973a-9c70cf237351",
   "metadata": {},
   "outputs": [],
   "source": []
  },
  {
   "cell_type": "code",
   "execution_count": null,
   "id": "503264ef-922b-418e-9ff2-99784a508674",
   "metadata": {},
   "outputs": [],
   "source": []
  },
  {
   "cell_type": "code",
   "execution_count": null,
   "id": "7aef713c-4c59-4ee8-9aed-e6a3aee20e14",
   "metadata": {},
   "outputs": [],
   "source": []
  },
  {
   "cell_type": "code",
   "execution_count": null,
   "id": "7289933d-d7bb-4ea8-93f9-35703fce123e",
   "metadata": {},
   "outputs": [],
   "source": []
  },
  {
   "cell_type": "code",
   "execution_count": null,
   "id": "17cefc66-3d00-4cff-aa4d-6d66ec25ef97",
   "metadata": {},
   "outputs": [],
   "source": []
  },
  {
   "cell_type": "code",
   "execution_count": null,
   "id": "c41b5f8f-d2a8-4af6-b94e-e58896b1ef90",
   "metadata": {},
   "outputs": [],
   "source": []
  },
  {
   "cell_type": "code",
   "execution_count": null,
   "id": "6a46b7cf-cac6-4928-b3dc-f8f0f5235f11",
   "metadata": {},
   "outputs": [],
   "source": []
  },
  {
   "cell_type": "code",
   "execution_count": null,
   "id": "eabdcd0a-67e6-47f7-bba0-be5e98b7db04",
   "metadata": {},
   "outputs": [],
   "source": []
  },
  {
   "cell_type": "code",
   "execution_count": null,
   "id": "cad703d1-cb46-4430-90ae-9f9e16a4cda6",
   "metadata": {},
   "outputs": [],
   "source": []
  },
  {
   "cell_type": "code",
   "execution_count": null,
   "id": "4a004b65-b845-4d2b-aef2-62fb963f5b5d",
   "metadata": {},
   "outputs": [],
   "source": []
  },
  {
   "cell_type": "code",
   "execution_count": null,
   "id": "5031a47e-85de-4abf-b5c4-10826dbb5b23",
   "metadata": {},
   "outputs": [],
   "source": []
  },
  {
   "cell_type": "code",
   "execution_count": null,
   "id": "841a4ce5-2954-4f92-99e8-aa5c820ebd84",
   "metadata": {},
   "outputs": [],
   "source": []
  },
  {
   "cell_type": "code",
   "execution_count": null,
   "id": "d20e0c91-3fef-4454-a16c-a73353c900a9",
   "metadata": {},
   "outputs": [],
   "source": []
  },
  {
   "cell_type": "code",
   "execution_count": null,
   "id": "979a3ce3-4552-4f39-a586-76fb4addcc63",
   "metadata": {},
   "outputs": [],
   "source": []
  },
  {
   "cell_type": "code",
   "execution_count": null,
   "id": "9aeee2a7-268b-4829-bbb5-9deb8002d12f",
   "metadata": {},
   "outputs": [],
   "source": []
  },
  {
   "cell_type": "code",
   "execution_count": null,
   "id": "2dbdd445-ac0e-488c-b23a-6d74d4a2d0be",
   "metadata": {},
   "outputs": [],
   "source": []
  },
  {
   "cell_type": "code",
   "execution_count": null,
   "id": "8c74a7de-0ccc-4215-aeb4-a656d63f37ef",
   "metadata": {},
   "outputs": [],
   "source": []
  },
  {
   "cell_type": "code",
   "execution_count": null,
   "id": "b12873de-0f64-4678-8c1b-2cf135a6a1f1",
   "metadata": {},
   "outputs": [],
   "source": []
  },
  {
   "cell_type": "code",
   "execution_count": null,
   "id": "2fbc3e10-6812-4500-905a-89f9ad4e930b",
   "metadata": {},
   "outputs": [],
   "source": []
  },
  {
   "cell_type": "code",
   "execution_count": null,
   "id": "46bcadfb-9b5a-4dd4-a8da-45314f0fe049",
   "metadata": {},
   "outputs": [],
   "source": []
  },
  {
   "cell_type": "code",
   "execution_count": null,
   "id": "c8e2f47c-94b0-47e0-9269-e2d4a7696b87",
   "metadata": {},
   "outputs": [],
   "source": []
  },
  {
   "cell_type": "code",
   "execution_count": null,
   "id": "3df64fe9-7bf6-4aba-8a2d-d91acb136e91",
   "metadata": {},
   "outputs": [],
   "source": []
  },
  {
   "cell_type": "code",
   "execution_count": null,
   "id": "818bc3a9-79c2-41f3-922e-9904762ece06",
   "metadata": {},
   "outputs": [],
   "source": []
  },
  {
   "cell_type": "code",
   "execution_count": null,
   "id": "07252991-da5c-4ed2-86bf-c44081b58a5e",
   "metadata": {},
   "outputs": [],
   "source": []
  },
  {
   "cell_type": "code",
   "execution_count": null,
   "id": "3da89142-6af1-45ad-8f75-063a86d6f081",
   "metadata": {},
   "outputs": [],
   "source": []
  },
  {
   "cell_type": "code",
   "execution_count": null,
   "id": "d3f7f9df-f358-4093-99b9-85c90b223e8d",
   "metadata": {},
   "outputs": [],
   "source": []
  },
  {
   "cell_type": "code",
   "execution_count": null,
   "id": "5d5fa429-0cc1-42fc-aa4a-820182ccc873",
   "metadata": {},
   "outputs": [],
   "source": []
  },
  {
   "cell_type": "code",
   "execution_count": null,
   "id": "7b2de213-9ca3-4e49-b1ad-11b7ec5d2de7",
   "metadata": {},
   "outputs": [],
   "source": []
  },
  {
   "cell_type": "code",
   "execution_count": null,
   "id": "58d009e3-7044-4270-9df2-9bf3baff32ef",
   "metadata": {},
   "outputs": [],
   "source": []
  },
  {
   "cell_type": "code",
   "execution_count": null,
   "id": "850078b0-e4ff-43d2-b9b5-5a999200df16",
   "metadata": {},
   "outputs": [],
   "source": []
  },
  {
   "cell_type": "code",
   "execution_count": null,
   "id": "8e6c9d57-83af-44e4-bbef-803728c292e3",
   "metadata": {},
   "outputs": [],
   "source": []
  },
  {
   "cell_type": "code",
   "execution_count": null,
   "id": "4d4ac301-3e7d-49df-b7c2-4ddcbb23cc44",
   "metadata": {},
   "outputs": [],
   "source": []
  },
  {
   "cell_type": "code",
   "execution_count": null,
   "id": "4064d952-bc13-4686-944b-41bc9a10fdfd",
   "metadata": {},
   "outputs": [],
   "source": []
  },
  {
   "cell_type": "code",
   "execution_count": null,
   "id": "a5d654d2-06c6-422a-a9c6-24c3494313d0",
   "metadata": {},
   "outputs": [],
   "source": []
  },
  {
   "cell_type": "code",
   "execution_count": null,
   "id": "8e259355-492f-44e0-8ba0-a9aa47b99ec2",
   "metadata": {},
   "outputs": [],
   "source": []
  },
  {
   "cell_type": "code",
   "execution_count": null,
   "id": "64a67bb0-fe10-4911-98e2-0491c2cbe40e",
   "metadata": {},
   "outputs": [],
   "source": []
  },
  {
   "cell_type": "code",
   "execution_count": null,
   "id": "4a6fa418-a31d-44e7-9621-0f19911a667a",
   "metadata": {},
   "outputs": [],
   "source": []
  },
  {
   "cell_type": "code",
   "execution_count": null,
   "id": "ebebb9d7-dd42-4746-b9dd-95949e9a1237",
   "metadata": {},
   "outputs": [],
   "source": []
  },
  {
   "cell_type": "code",
   "execution_count": null,
   "id": "c1f10a49-e694-4feb-a0cb-07f1c96e268d",
   "metadata": {},
   "outputs": [],
   "source": []
  },
  {
   "cell_type": "code",
   "execution_count": null,
   "id": "415ab091-5395-43ee-8536-eaa10c803fe6",
   "metadata": {},
   "outputs": [],
   "source": []
  },
  {
   "cell_type": "code",
   "execution_count": null,
   "id": "ab69b149-5c75-45dd-86ba-59d780cacaa1",
   "metadata": {},
   "outputs": [],
   "source": []
  },
  {
   "cell_type": "code",
   "execution_count": null,
   "id": "4e88c9c9-8019-426a-aa5a-3820aaeaa199",
   "metadata": {},
   "outputs": [],
   "source": []
  },
  {
   "cell_type": "code",
   "execution_count": null,
   "id": "beb1476d-a0e9-4435-b505-9a12d19c065f",
   "metadata": {},
   "outputs": [],
   "source": []
  },
  {
   "cell_type": "code",
   "execution_count": null,
   "id": "d6657773-cfa7-4343-b421-b2ff16d9e37f",
   "metadata": {},
   "outputs": [],
   "source": []
  },
  {
   "cell_type": "code",
   "execution_count": null,
   "id": "0b1ea3b7-1836-4601-831b-fa9889f1b58d",
   "metadata": {},
   "outputs": [],
   "source": []
  },
  {
   "cell_type": "code",
   "execution_count": null,
   "id": "2727a3d3-6d9b-402c-a07a-ea12f2d1a9f1",
   "metadata": {},
   "outputs": [],
   "source": []
  },
  {
   "cell_type": "code",
   "execution_count": null,
   "id": "8ca86843-f83f-4b34-83e2-b6162d45c5e5",
   "metadata": {},
   "outputs": [],
   "source": []
  },
  {
   "cell_type": "code",
   "execution_count": null,
   "id": "d4c61754-68bc-4810-9206-d038d3d6d528",
   "metadata": {},
   "outputs": [],
   "source": []
  },
  {
   "cell_type": "code",
   "execution_count": null,
   "id": "3b0ccc19-8153-4fe2-88c8-ac7d6b9c48a9",
   "metadata": {},
   "outputs": [],
   "source": []
  },
  {
   "cell_type": "code",
   "execution_count": null,
   "id": "4d378716-5c91-43d6-a3b3-db7b4f52b02e",
   "metadata": {},
   "outputs": [],
   "source": []
  },
  {
   "cell_type": "code",
   "execution_count": null,
   "id": "880742a4-d3a2-47c0-ac05-2489f1c224d7",
   "metadata": {},
   "outputs": [],
   "source": []
  },
  {
   "cell_type": "code",
   "execution_count": null,
   "id": "6e7eedfd-b05b-43d5-acba-39e84492412a",
   "metadata": {},
   "outputs": [],
   "source": []
  },
  {
   "cell_type": "code",
   "execution_count": null,
   "id": "39a7b867-e949-4911-ba5b-9b71efc9366a",
   "metadata": {},
   "outputs": [],
   "source": []
  },
  {
   "cell_type": "code",
   "execution_count": null,
   "id": "715cca64-4d48-4779-a6c4-ad5279c9ab89",
   "metadata": {},
   "outputs": [],
   "source": []
  },
  {
   "cell_type": "code",
   "execution_count": null,
   "id": "c6620658-1179-4ff4-ba92-4aaa2d4bd7eb",
   "metadata": {},
   "outputs": [],
   "source": []
  },
  {
   "cell_type": "code",
   "execution_count": null,
   "id": "02565d3c-099d-4b00-866a-fa6635d08b22",
   "metadata": {},
   "outputs": [],
   "source": []
  },
  {
   "cell_type": "code",
   "execution_count": null,
   "id": "fe326f4d-a788-444f-b312-7349e37f23aa",
   "metadata": {},
   "outputs": [],
   "source": []
  },
  {
   "cell_type": "code",
   "execution_count": null,
   "id": "542ddc94-cc2b-48b3-b2d1-2c4660248291",
   "metadata": {},
   "outputs": [],
   "source": []
  },
  {
   "cell_type": "code",
   "execution_count": null,
   "id": "15255887-94dd-4e05-ad53-50ea0e5c2836",
   "metadata": {},
   "outputs": [],
   "source": []
  },
  {
   "cell_type": "code",
   "execution_count": null,
   "id": "97ee524f-e2e9-4dbd-b14b-18f2f343d0de",
   "metadata": {},
   "outputs": [],
   "source": []
  },
  {
   "cell_type": "code",
   "execution_count": null,
   "id": "fa849a6f-fd61-44ba-96bc-9189faf12afa",
   "metadata": {},
   "outputs": [],
   "source": []
  },
  {
   "cell_type": "code",
   "execution_count": null,
   "id": "75623f58-00ee-4675-b668-9984a94190cc",
   "metadata": {},
   "outputs": [],
   "source": []
  },
  {
   "cell_type": "code",
   "execution_count": null,
   "id": "794ad010-0191-41c3-975b-36dfc0aa6235",
   "metadata": {},
   "outputs": [],
   "source": []
  },
  {
   "cell_type": "code",
   "execution_count": null,
   "id": "4d1906ce-8567-4ffb-99f4-ab89f17a6b7b",
   "metadata": {},
   "outputs": [],
   "source": []
  },
  {
   "cell_type": "code",
   "execution_count": null,
   "id": "a606575f-7c7c-42fd-b8b8-cde94c1c2c55",
   "metadata": {},
   "outputs": [],
   "source": []
  }
 ],
 "metadata": {
  "kernelspec": {
   "display_name": "Python 3 (ipykernel)",
   "language": "python",
   "name": "python3"
  },
  "language_info": {
   "codemirror_mode": {
    "name": "ipython",
    "version": 3
   },
   "file_extension": ".py",
   "mimetype": "text/x-python",
   "name": "python",
   "nbconvert_exporter": "python",
   "pygments_lexer": "ipython3",
   "version": "3.9.7"
  }
 },
 "nbformat": 4,
 "nbformat_minor": 5
}
